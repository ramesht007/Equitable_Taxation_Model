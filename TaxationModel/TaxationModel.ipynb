{
 "cells": [
  {
   "cell_type": "markdown",
   "id": "combined-relation",
   "metadata": {},
   "source": [
    "# Equitable Taxation Model"
   ]
  },
  {
   "cell_type": "markdown",
   "id": "directed-recipient",
   "metadata": {},
   "source": [
    "This dataset was chosen as it provided insights into the incomes and expenditures of a population, which could pave the way towards designing a more equitable taxation system based on data analytics."
   ]
  },
  {
   "cell_type": "code",
   "execution_count": 12,
   "id": "affecting-utilization",
   "metadata": {},
   "outputs": [],
   "source": [
    "import pandas as pd\n",
    "import numpy as np\n",
    "import matplotlib.pyplot as plt\n",
    "import seaborn as sns\n",
    "import statsmodels.api as sm\n",
    "import statsmodels.formula.api as smf\n",
    "import scipy\n",
    "import numpy as np\n",
    "from sklearn.model_selection import train_test_split\n",
    "from sklearn.pipeline import Pipeline\n",
    "from sklearn.preprocessing import StandardScaler, PolynomialFeatures\n",
    "from sklearn.linear_model import LinearRegression\n",
    "from sklearn.model_selection import cross_val_score\n",
    "from sklearn.metrics import mean_squared_error\n",
    "from sklearn.linear_model import Ridge\n",
    "from math import sin, cos, sqrt, atan2, radians, pi"
   ]
  },
  {
   "cell_type": "code",
   "execution_count": 13,
   "id": "sweet-currency",
   "metadata": {},
   "outputs": [],
   "source": [
    "data = pd.read_csv('Filipino Family Income and Expenditure.csv')"
   ]
  },
  {
   "cell_type": "markdown",
   "id": "crucial-painting",
   "metadata": {},
   "source": [
    "## 1. Data Exploration"
   ]
  },
  {
   "cell_type": "code",
   "execution_count": 14,
   "id": "emotional-livestock",
   "metadata": {
    "tags": []
   },
   "outputs": [
    {
     "data": {
      "text/html": [
       "<div>\n",
       "<style scoped>\n",
       "    .dataframe tbody tr th:only-of-type {\n",
       "        vertical-align: middle;\n",
       "    }\n",
       "\n",
       "    .dataframe tbody tr th {\n",
       "        vertical-align: top;\n",
       "    }\n",
       "\n",
       "    .dataframe thead th {\n",
       "        text-align: right;\n",
       "    }\n",
       "</style>\n",
       "<table border=\"1\" class=\"dataframe\">\n",
       "  <thead>\n",
       "    <tr style=\"text-align: right;\">\n",
       "      <th></th>\n",
       "      <th>Total Household Income</th>\n",
       "      <th>Region</th>\n",
       "      <th>Total Food Expenditure</th>\n",
       "      <th>Main Source of Income</th>\n",
       "      <th>Agricultural Household indicator</th>\n",
       "      <th>Bread and Cereals Expenditure</th>\n",
       "      <th>Total Rice Expenditure</th>\n",
       "      <th>Meat Expenditure</th>\n",
       "      <th>Total Fish and  marine products Expenditure</th>\n",
       "      <th>Fruit Expenditure</th>\n",
       "      <th>...</th>\n",
       "      <th>Number of Refrigerator/Freezer</th>\n",
       "      <th>Number of Washing Machine</th>\n",
       "      <th>Number of Airconditioner</th>\n",
       "      <th>Number of Car, Jeep, Van</th>\n",
       "      <th>Number of Landline/wireless telephones</th>\n",
       "      <th>Number of Cellular phone</th>\n",
       "      <th>Number of Personal Computer</th>\n",
       "      <th>Number of Stove with Oven/Gas Range</th>\n",
       "      <th>Number of Motorized Banca</th>\n",
       "      <th>Number of Motorcycle/Tricycle</th>\n",
       "    </tr>\n",
       "  </thead>\n",
       "  <tbody>\n",
       "    <tr>\n",
       "      <th>0</th>\n",
       "      <td>480332</td>\n",
       "      <td>CAR</td>\n",
       "      <td>117848</td>\n",
       "      <td>Wage/Salaries</td>\n",
       "      <td>0</td>\n",
       "      <td>42140</td>\n",
       "      <td>38300</td>\n",
       "      <td>24676</td>\n",
       "      <td>16806</td>\n",
       "      <td>3325</td>\n",
       "      <td>...</td>\n",
       "      <td>1</td>\n",
       "      <td>1</td>\n",
       "      <td>0</td>\n",
       "      <td>0</td>\n",
       "      <td>0</td>\n",
       "      <td>2</td>\n",
       "      <td>1</td>\n",
       "      <td>0</td>\n",
       "      <td>0</td>\n",
       "      <td>1</td>\n",
       "    </tr>\n",
       "    <tr>\n",
       "      <th>1</th>\n",
       "      <td>198235</td>\n",
       "      <td>CAR</td>\n",
       "      <td>67766</td>\n",
       "      <td>Wage/Salaries</td>\n",
       "      <td>0</td>\n",
       "      <td>17329</td>\n",
       "      <td>13008</td>\n",
       "      <td>17434</td>\n",
       "      <td>11073</td>\n",
       "      <td>2035</td>\n",
       "      <td>...</td>\n",
       "      <td>0</td>\n",
       "      <td>1</td>\n",
       "      <td>0</td>\n",
       "      <td>0</td>\n",
       "      <td>0</td>\n",
       "      <td>3</td>\n",
       "      <td>1</td>\n",
       "      <td>0</td>\n",
       "      <td>0</td>\n",
       "      <td>2</td>\n",
       "    </tr>\n",
       "    <tr>\n",
       "      <th>2</th>\n",
       "      <td>82785</td>\n",
       "      <td>CAR</td>\n",
       "      <td>61609</td>\n",
       "      <td>Wage/Salaries</td>\n",
       "      <td>1</td>\n",
       "      <td>34182</td>\n",
       "      <td>32001</td>\n",
       "      <td>7783</td>\n",
       "      <td>2590</td>\n",
       "      <td>1730</td>\n",
       "      <td>...</td>\n",
       "      <td>0</td>\n",
       "      <td>0</td>\n",
       "      <td>0</td>\n",
       "      <td>0</td>\n",
       "      <td>0</td>\n",
       "      <td>0</td>\n",
       "      <td>0</td>\n",
       "      <td>0</td>\n",
       "      <td>0</td>\n",
       "      <td>0</td>\n",
       "    </tr>\n",
       "    <tr>\n",
       "      <th>3</th>\n",
       "      <td>107589</td>\n",
       "      <td>CAR</td>\n",
       "      <td>78189</td>\n",
       "      <td>Wage/Salaries</td>\n",
       "      <td>0</td>\n",
       "      <td>34030</td>\n",
       "      <td>28659</td>\n",
       "      <td>10914</td>\n",
       "      <td>10812</td>\n",
       "      <td>690</td>\n",
       "      <td>...</td>\n",
       "      <td>0</td>\n",
       "      <td>0</td>\n",
       "      <td>0</td>\n",
       "      <td>0</td>\n",
       "      <td>0</td>\n",
       "      <td>1</td>\n",
       "      <td>0</td>\n",
       "      <td>0</td>\n",
       "      <td>0</td>\n",
       "      <td>0</td>\n",
       "    </tr>\n",
       "    <tr>\n",
       "      <th>4</th>\n",
       "      <td>189322</td>\n",
       "      <td>CAR</td>\n",
       "      <td>94625</td>\n",
       "      <td>Wage/Salaries</td>\n",
       "      <td>0</td>\n",
       "      <td>34820</td>\n",
       "      <td>30167</td>\n",
       "      <td>18391</td>\n",
       "      <td>11309</td>\n",
       "      <td>1395</td>\n",
       "      <td>...</td>\n",
       "      <td>1</td>\n",
       "      <td>0</td>\n",
       "      <td>0</td>\n",
       "      <td>0</td>\n",
       "      <td>0</td>\n",
       "      <td>3</td>\n",
       "      <td>0</td>\n",
       "      <td>0</td>\n",
       "      <td>0</td>\n",
       "      <td>1</td>\n",
       "    </tr>\n",
       "  </tbody>\n",
       "</table>\n",
       "<p>5 rows × 60 columns</p>\n",
       "</div>"
      ],
      "text/plain": [
       "   Total Household Income Region  Total Food Expenditure  \\\n",
       "0                  480332    CAR                  117848   \n",
       "1                  198235    CAR                   67766   \n",
       "2                   82785    CAR                   61609   \n",
       "3                  107589    CAR                   78189   \n",
       "4                  189322    CAR                   94625   \n",
       "\n",
       "  Main Source of Income  Agricultural Household indicator  \\\n",
       "0         Wage/Salaries                                 0   \n",
       "1         Wage/Salaries                                 0   \n",
       "2         Wage/Salaries                                 1   \n",
       "3         Wage/Salaries                                 0   \n",
       "4         Wage/Salaries                                 0   \n",
       "\n",
       "   Bread and Cereals Expenditure  Total Rice Expenditure  Meat Expenditure  \\\n",
       "0                          42140                   38300             24676   \n",
       "1                          17329                   13008             17434   \n",
       "2                          34182                   32001              7783   \n",
       "3                          34030                   28659             10914   \n",
       "4                          34820                   30167             18391   \n",
       "\n",
       "   Total Fish and  marine products Expenditure  Fruit Expenditure  ...  \\\n",
       "0                                        16806               3325  ...   \n",
       "1                                        11073               2035  ...   \n",
       "2                                         2590               1730  ...   \n",
       "3                                        10812                690  ...   \n",
       "4                                        11309               1395  ...   \n",
       "\n",
       "   Number of Refrigerator/Freezer  Number of Washing Machine  \\\n",
       "0                               1                          1   \n",
       "1                               0                          1   \n",
       "2                               0                          0   \n",
       "3                               0                          0   \n",
       "4                               1                          0   \n",
       "\n",
       "   Number of Airconditioner  Number of Car, Jeep, Van  \\\n",
       "0                         0                         0   \n",
       "1                         0                         0   \n",
       "2                         0                         0   \n",
       "3                         0                         0   \n",
       "4                         0                         0   \n",
       "\n",
       "   Number of Landline/wireless telephones  Number of Cellular phone  \\\n",
       "0                                       0                         2   \n",
       "1                                       0                         3   \n",
       "2                                       0                         0   \n",
       "3                                       0                         1   \n",
       "4                                       0                         3   \n",
       "\n",
       "   Number of Personal Computer  Number of Stove with Oven/Gas Range  \\\n",
       "0                            1                                    0   \n",
       "1                            1                                    0   \n",
       "2                            0                                    0   \n",
       "3                            0                                    0   \n",
       "4                            0                                    0   \n",
       "\n",
       "   Number of Motorized Banca  Number of Motorcycle/Tricycle  \n",
       "0                          0                              1  \n",
       "1                          0                              2  \n",
       "2                          0                              0  \n",
       "3                          0                              0  \n",
       "4                          0                              1  \n",
       "\n",
       "[5 rows x 60 columns]"
      ]
     },
     "execution_count": 14,
     "metadata": {},
     "output_type": "execute_result"
    }
   ],
   "source": [
    "data.head()"
   ]
  },
  {
   "cell_type": "code",
   "execution_count": 15,
   "id": "quarterly-woman",
   "metadata": {
    "tags": []
   },
   "outputs": [
    {
     "name": "stdout",
     "output_type": "stream",
     "text": [
      "<class 'pandas.core.frame.DataFrame'>\n",
      "RangeIndex: 41544 entries, 0 to 41543\n",
      "Data columns (total 60 columns):\n",
      " #   Column                                         Non-Null Count  Dtype \n",
      "---  ------                                         --------------  ----- \n",
      " 0   Total Household Income                         41544 non-null  int64 \n",
      " 1   Region                                         41544 non-null  object\n",
      " 2   Total Food Expenditure                         41544 non-null  int64 \n",
      " 3   Main Source of Income                          41544 non-null  object\n",
      " 4   Agricultural Household indicator               41544 non-null  int64 \n",
      " 5   Bread and Cereals Expenditure                  41544 non-null  int64 \n",
      " 6   Total Rice Expenditure                         41544 non-null  int64 \n",
      " 7   Meat Expenditure                               41544 non-null  int64 \n",
      " 8   Total Fish and  marine products Expenditure    41544 non-null  int64 \n",
      " 9   Fruit Expenditure                              41544 non-null  int64 \n",
      " 10  Vegetables Expenditure                         41544 non-null  int64 \n",
      " 11  Restaurant and hotels Expenditure              41544 non-null  int64 \n",
      " 12  Alcoholic Beverages Expenditure                41544 non-null  int64 \n",
      " 13  Tobacco Expenditure                            41544 non-null  int64 \n",
      " 14  Clothing, Footwear and Other Wear Expenditure  41544 non-null  int64 \n",
      " 15  Housing and water Expenditure                  41544 non-null  int64 \n",
      " 16  Imputed House Rental Value                     41544 non-null  int64 \n",
      " 17  Medical Care Expenditure                       41544 non-null  int64 \n",
      " 18  Transportation Expenditure                     41544 non-null  int64 \n",
      " 19  Communication Expenditure                      41544 non-null  int64 \n",
      " 20  Education Expenditure                          41544 non-null  int64 \n",
      " 21  Miscellaneous Goods and Services Expenditure   41544 non-null  int64 \n",
      " 22  Special Occasions Expenditure                  41544 non-null  int64 \n",
      " 23  Crop Farming and Gardening expenses            41544 non-null  int64 \n",
      " 24  Total Income from Entrepreneurial Acitivites   41544 non-null  int64 \n",
      " 25  Household Head Sex                             41544 non-null  object\n",
      " 26  Household Head Age                             41544 non-null  int64 \n",
      " 27  Household Head Marital Status                  41544 non-null  object\n",
      " 28  Household Head Highest Grade Completed         41544 non-null  object\n",
      " 29  Household Head Job or Business Indicator       41544 non-null  object\n",
      " 30  Household Head Occupation                      34008 non-null  object\n",
      " 31  Household Head Class of Worker                 34008 non-null  object\n",
      " 32  Type of Household                              41544 non-null  object\n",
      " 33  Total Number of Family members                 41544 non-null  int64 \n",
      " 34  Members with age less than 5 year old          41544 non-null  int64 \n",
      " 35  Members with age 5 - 17 years old              41544 non-null  int64 \n",
      " 36  Total number of family members employed        41544 non-null  int64 \n",
      " 37  Type of Building/House                         41544 non-null  object\n",
      " 38  Type of Roof                                   41544 non-null  object\n",
      " 39  Type of Walls                                  41544 non-null  object\n",
      " 40  House Floor Area                               41544 non-null  int64 \n",
      " 41  House Age                                      41544 non-null  int64 \n",
      " 42  Number of bedrooms                             41544 non-null  int64 \n",
      " 43  Tenure Status                                  41544 non-null  object\n",
      " 44  Toilet Facilities                              41544 non-null  object\n",
      " 45  Electricity                                    41544 non-null  int64 \n",
      " 46  Main Source of Water Supply                    41544 non-null  object\n",
      " 47  Number of Television                           41544 non-null  int64 \n",
      " 48  Number of CD/VCD/DVD                           41544 non-null  int64 \n",
      " 49  Number of Component/Stereo set                 41544 non-null  int64 \n",
      " 50  Number of Refrigerator/Freezer                 41544 non-null  int64 \n",
      " 51  Number of Washing Machine                      41544 non-null  int64 \n",
      " 52  Number of Airconditioner                       41544 non-null  int64 \n",
      " 53  Number of Car, Jeep, Van                       41544 non-null  int64 \n",
      " 54  Number of Landline/wireless telephones         41544 non-null  int64 \n",
      " 55  Number of Cellular phone                       41544 non-null  int64 \n",
      " 56  Number of Personal Computer                    41544 non-null  int64 \n",
      " 57  Number of Stove with Oven/Gas Range            41544 non-null  int64 \n",
      " 58  Number of Motorized Banca                      41544 non-null  int64 \n",
      " 59  Number of Motorcycle/Tricycle                  41544 non-null  int64 \n",
      "dtypes: int64(45), object(15)\n",
      "memory usage: 19.0+ MB\n"
     ]
    }
   ],
   "source": [
    "data.info()"
   ]
  },
  {
   "cell_type": "code",
   "execution_count": 16,
   "id": "presidential-yorkshire",
   "metadata": {
    "tags": []
   },
   "outputs": [
    {
     "data": {
      "text/plain": [
       "<seaborn.axisgrid.FacetGrid at 0x202b7bc8e88>"
      ]
     },
     "execution_count": 16,
     "metadata": {},
     "output_type": "execute_result"
    },
    {
     "data": {
      "image/png": "[encoded data removed]",
      "text/plain": [
       "<Figure size 360x360 with 1 Axes>"
      ]
     },
     "metadata": {},
     "output_type": "display_data"
    }
   ],
   "source": [
    "sns.displot(data=data, x='Total Household Income', kde=True)"
   ]
  },
  {
   "cell_type": "code",
   "execution_count": 17,
   "id": "about-gardening",
   "metadata": {
    "tags": []
   },
   "outputs": [
    {
     "name": "stderr",
     "output_type": "stream",
     "text": [
      "C:\\Users\\rames\\anaconda3\\envs\\nus\\lib\\site-packages\\seaborn\\_decorators.py:43: FutureWarning: Pass the following variables as keyword args: x, y. From version 0.12, the only valid positional argument will be `data`, and passing other arguments without an explicit keyword will result in an error or misinterpretation.\n",
      "  FutureWarning\n"
     ]
    },
    {
     "data": {
      "image/png": "[encoded data removed]",
      "text/plain": [
       "<Figure size 432x288 with 1 Axes>"
      ]
     },
     "metadata": {},
     "output_type": "display_data"
    }
   ],
   "source": [
    "%matplotlib inline\n",
    "occupation_count = data['Total Number of Family members'].value_counts()\n",
    "sns.set(style=\"darkgrid\")\n",
    "sns.barplot(occupation_count.index, occupation_count.values, alpha=0.9)\n",
    "plt.title('Distribution of Total Family Members')\n",
    "plt.ylabel('Number of Occurrences', fontsize=12)\n",
    "plt.xlabel('Number of Family Members', fontsize=12)\n",
    "plt.show()"
   ]
  },
  {
   "cell_type": "code",
   "execution_count": 18,
   "id": "embedded-polyester",
   "metadata": {
    "tags": []
   },
   "outputs": [
    {
     "name": "stderr",
     "output_type": "stream",
     "text": [
      "C:\\Users\\rames\\anaconda3\\envs\\nus\\lib\\site-packages\\seaborn\\_decorators.py:43: FutureWarning: Pass the following variables as keyword args: x, y. From version 0.12, the only valid positional argument will be `data`, and passing other arguments without an explicit keyword will result in an error or misinterpretation.\n",
      "  FutureWarning\n"
     ]
    },
    {
     "data": {
      "image/png": "[encoded data removed]",
      "text/plain": [
       "<Figure size 432x288 with 1 Axes>"
      ]
     },
     "metadata": {},
     "output_type": "display_data"
    }
   ],
   "source": [
    "income_avg = data.groupby(['Total Number of Family members'], as_index=True)['Total Household Income'].mean()\n",
    "sns.barplot(income_avg.index, income_avg.values, alpha=0.9)\n",
    "plt.title('Income vs Family Size')\n",
    "plt.ylabel('Avg Household Income', fontsize=12)\n",
    "plt.xlabel('Total Number of Family members', fontsize=12)\n",
    "plt.show()"
   ]
  },
  {
   "cell_type": "markdown",
   "id": "substantial-thong",
   "metadata": {},
   "source": [
    "Figure 1: There is significant income disparity in the Philippines.\n",
    "\n",
    "Figure 2: Most of the families have less than 7 members.\n",
    "\n",
    "Figure 3: Income does increase somewhat linearly with number of family members. However, the increase is not proportional. Particularly in the family size of 4-6, the average income is almost the same. In some cases, families with more members make even less income. This shows that though they may have more mouths to feed, some families do not make much more money to offset the cost. However, they will be taxed the same amount as those in smaller families. This is where we seek to make taxation more equitable."
   ]
  },
  {
   "cell_type": "markdown",
   "id": "known-tradition",
   "metadata": {},
   "source": [
    "## 2. Data Preprocessing"
   ]
  },
  {
   "cell_type": "markdown",
   "id": "further-street",
   "metadata": {},
   "source": [
    "Removing special characters from column names."
   ]
  },
  {
   "cell_type": "code",
   "execution_count": 19,
   "id": "unsigned-flush",
   "metadata": {},
   "outputs": [],
   "source": [
    "data.columns = data.columns.str.replace(' ', '')\n",
    "data.columns = data.columns.str.replace(',', '')\n",
    "data.columns = data.columns.str.replace('/', '')\n",
    "data.columns = data.columns.str.replace('-', '')"
   ]
  },
  {
   "cell_type": "markdown",
   "id": "supreme-vector",
   "metadata": {},
   "source": [
    "Remove households that earn less than the minimum taxable income of PHP 250,000."
   ]
  },
  {
   "cell_type": "code",
   "execution_count": 20,
   "id": "seasonal-starter",
   "metadata": {},
   "outputs": [],
   "source": [
    "data = data[data['TotalHouseholdIncome']>=250000]"
   ]
  },
  {
   "cell_type": "code",
   "execution_count": 21,
   "id": "super-terrain",
   "metadata": {},
   "outputs": [
    {
     "data": {
      "text/plain": [
       "(12807, 60)"
      ]
     },
     "execution_count": 21,
     "metadata": {},
     "output_type": "execute_result"
    }
   ],
   "source": [
    "data.shape"
   ]
  },
  {
   "cell_type": "markdown",
   "id": "patient-shepherd",
   "metadata": {},
   "source": [
    "Finding and imputing missing values."
   ]
  },
  {
   "cell_type": "code",
   "execution_count": 22,
   "id": "julian-darkness",
   "metadata": {
    "tags": []
   },
   "outputs": [
    {
     "data": {
      "text/plain": [
       "TotalHouseholdIncome                           0\n",
       "Region                                         0\n",
       "TotalFoodExpenditure                           0\n",
       "MainSourceofIncome                             0\n",
       "AgriculturalHouseholdindicator                 0\n",
       "BreadandCerealsExpenditure                     0\n",
       "TotalRiceExpenditure                           0\n",
       "MeatExpenditure                                0\n",
       "TotalFishandmarineproductsExpenditure          0\n",
       "FruitExpenditure                               0\n",
       "VegetablesExpenditure                          0\n",
       "RestaurantandhotelsExpenditure                 0\n",
       "AlcoholicBeveragesExpenditure                  0\n",
       "TobaccoExpenditure                             0\n",
       "ClothingFootwearandOtherWearExpenditure        0\n",
       "HousingandwaterExpenditure                     0\n",
       "ImputedHouseRentalValue                        0\n",
       "MedicalCareExpenditure                         0\n",
       "TransportationExpenditure                      0\n",
       "CommunicationExpenditure                       0\n",
       "EducationExpenditure                           0\n",
       "MiscellaneousGoodsandServicesExpenditure       0\n",
       "SpecialOccasionsExpenditure                    0\n",
       "CropFarmingandGardeningexpenses                0\n",
       "TotalIncomefromEntrepreneurialAcitivites       0\n",
       "HouseholdHeadSex                               0\n",
       "HouseholdHeadAge                               0\n",
       "HouseholdHeadMaritalStatus                     0\n",
       "HouseholdHeadHighestGradeCompleted             0\n",
       "HouseholdHeadJoborBusinessIndicator            0\n",
       "HouseholdHeadOccupation                     3114\n",
       "HouseholdHeadClassofWorker                  3114\n",
       "TypeofHousehold                                0\n",
       "TotalNumberofFamilymembers                     0\n",
       "Memberswithagelessthan5yearold                 0\n",
       "Memberswithage517yearsold                      0\n",
       "Totalnumberoffamilymembersemployed             0\n",
       "TypeofBuildingHouse                            0\n",
       "TypeofRoof                                     0\n",
       "TypeofWalls                                    0\n",
       "HouseFloorArea                                 0\n",
       "HouseAge                                       0\n",
       "Numberofbedrooms                               0\n",
       "TenureStatus                                   0\n",
       "ToiletFacilities                               0\n",
       "Electricity                                    0\n",
       "MainSourceofWaterSupply                        0\n",
       "NumberofTelevision                             0\n",
       "NumberofCDVCDDVD                               0\n",
       "NumberofComponentStereoset                     0\n",
       "NumberofRefrigeratorFreezer                    0\n",
       "NumberofWashingMachine                         0\n",
       "NumberofAirconditioner                         0\n",
       "NumberofCarJeepVan                             0\n",
       "NumberofLandlinewirelesstelephones             0\n",
       "NumberofCellularphone                          0\n",
       "NumberofPersonalComputer                       0\n",
       "NumberofStovewithOvenGasRange                  0\n",
       "NumberofMotorizedBanca                         0\n",
       "NumberofMotorcycleTricycle                     0\n",
       "dtype: int64"
      ]
     },
     "execution_count": 22,
     "metadata": {},
     "output_type": "execute_result"
    }
   ],
   "source": [
    "data.isnull().sum()"
   ]
  },
  {
   "cell_type": "code",
   "execution_count": 23,
   "id": "communist-amendment",
   "metadata": {
    "tags": []
   },
   "outputs": [
    {
     "data": {
      "text/plain": [
       "50       No Job/Business\n",
       "60       No Job/Business\n",
       "63       No Job/Business\n",
       "89       No Job/Business\n",
       "103      No Job/Business\n",
       "              ...       \n",
       "41425    No Job/Business\n",
       "41486    No Job/Business\n",
       "41500    No Job/Business\n",
       "41505    No Job/Business\n",
       "41520    No Job/Business\n",
       "Name: HouseholdHeadJoborBusinessIndicator, Length: 3114, dtype: object"
      ]
     },
     "execution_count": 23,
     "metadata": {},
     "output_type": "execute_result"
    }
   ],
   "source": [
    "data[data['HouseholdHeadClassofWorker'].isnull()]['HouseholdHeadJoborBusinessIndicator']"
   ]
  },
  {
   "cell_type": "code",
   "execution_count": 24,
   "id": "developmental-singer",
   "metadata": {
    "tags": []
   },
   "outputs": [
    {
     "data": {
      "text/plain": [
       "With Job/Business    9693\n",
       "No Job/Business      3114\n",
       "Name: HouseholdHeadJoborBusinessIndicator, dtype: int64"
      ]
     },
     "execution_count": 24,
     "metadata": {},
     "output_type": "execute_result"
    }
   ],
   "source": [
    "data['HouseholdHeadJoborBusinessIndicator'].value_counts()"
   ]
  },
  {
   "cell_type": "code",
   "execution_count": 25,
   "id": "dress-reservoir",
   "metadata": {
    "tags": []
   },
   "outputs": [],
   "source": [
    "# When trying to impute from adjacent values, it was discovered that the missing values are for families where the household head is unemployed. \n",
    "# Therefore the missing values are replaced as such.\n",
    "\n",
    "data['HouseholdHeadClassofWorker'].fillna('Unemployed', inplace=True)\n",
    "data['HouseholdHeadOccupation'].fillna('Unemployed', inplace=True)"
   ]
  },
  {
   "cell_type": "code",
   "execution_count": 26,
   "id": "legal-heavy",
   "metadata": {
    "tags": []
   },
   "outputs": [
    {
     "data": {
      "text/plain": [
       "TotalHouseholdIncome                        0\n",
       "Region                                      0\n",
       "TotalFoodExpenditure                        0\n",
       "MainSourceofIncome                          0\n",
       "AgriculturalHouseholdindicator              0\n",
       "BreadandCerealsExpenditure                  0\n",
       "TotalRiceExpenditure                        0\n",
       "MeatExpenditure                             0\n",
       "TotalFishandmarineproductsExpenditure       0\n",
       "FruitExpenditure                            0\n",
       "VegetablesExpenditure                       0\n",
       "RestaurantandhotelsExpenditure              0\n",
       "AlcoholicBeveragesExpenditure               0\n",
       "TobaccoExpenditure                          0\n",
       "ClothingFootwearandOtherWearExpenditure     0\n",
       "HousingandwaterExpenditure                  0\n",
       "ImputedHouseRentalValue                     0\n",
       "MedicalCareExpenditure                      0\n",
       "TransportationExpenditure                   0\n",
       "CommunicationExpenditure                    0\n",
       "EducationExpenditure                        0\n",
       "MiscellaneousGoodsandServicesExpenditure    0\n",
       "SpecialOccasionsExpenditure                 0\n",
       "CropFarmingandGardeningexpenses             0\n",
       "TotalIncomefromEntrepreneurialAcitivites    0\n",
       "HouseholdHeadSex                            0\n",
       "HouseholdHeadAge                            0\n",
       "HouseholdHeadMaritalStatus                  0\n",
       "HouseholdHeadHighestGradeCompleted          0\n",
       "HouseholdHeadJoborBusinessIndicator         0\n",
       "HouseholdHeadOccupation                     0\n",
       "HouseholdHeadClassofWorker                  0\n",
       "TypeofHousehold                             0\n",
       "TotalNumberofFamilymembers                  0\n",
       "Memberswithagelessthan5yearold              0\n",
       "Memberswithage517yearsold                   0\n",
       "Totalnumberoffamilymembersemployed          0\n",
       "TypeofBuildingHouse                         0\n",
       "TypeofRoof                                  0\n",
       "TypeofWalls                                 0\n",
       "HouseFloorArea                              0\n",
       "HouseAge                                    0\n",
       "Numberofbedrooms                            0\n",
       "TenureStatus                                0\n",
       "ToiletFacilities                            0\n",
       "Electricity                                 0\n",
       "MainSourceofWaterSupply                     0\n",
       "NumberofTelevision                          0\n",
       "NumberofCDVCDDVD                            0\n",
       "NumberofComponentStereoset                  0\n",
       "NumberofRefrigeratorFreezer                 0\n",
       "NumberofWashingMachine                      0\n",
       "NumberofAirconditioner                      0\n",
       "NumberofCarJeepVan                          0\n",
       "NumberofLandlinewirelesstelephones          0\n",
       "NumberofCellularphone                       0\n",
       "NumberofPersonalComputer                    0\n",
       "NumberofStovewithOvenGasRange               0\n",
       "NumberofMotorizedBanca                      0\n",
       "NumberofMotorcycleTricycle                  0\n",
       "dtype: int64"
      ]
     },
     "execution_count": 26,
     "metadata": {},
     "output_type": "execute_result"
    }
   ],
   "source": [
    "data.isnull().sum()"
   ]
  },
  {
   "cell_type": "markdown",
   "id": "completed-avatar",
   "metadata": {},
   "source": [
    "## 3. Variable Identification"
   ]
  },
  {
   "cell_type": "markdown",
   "id": "saved-duration",
   "metadata": {},
   "source": [
    "There are several features describing the spending habits of each household."
   ]
  },
  {
   "cell_type": "code",
   "execution_count": 27,
   "id": "satisfied-congo",
   "metadata": {
    "tags": []
   },
   "outputs": [
    {
     "data": {
      "text/plain": [
       "['TotalFoodExpenditure',\n",
       " 'BreadandCerealsExpenditure',\n",
       " 'TotalRiceExpenditure',\n",
       " 'MeatExpenditure',\n",
       " 'TotalFishandmarineproductsExpenditure',\n",
       " 'FruitExpenditure',\n",
       " 'VegetablesExpenditure',\n",
       " 'RestaurantandhotelsExpenditure',\n",
       " 'AlcoholicBeveragesExpenditure',\n",
       " 'TobaccoExpenditure',\n",
       " 'ClothingFootwearandOtherWearExpenditure',\n",
       " 'HousingandwaterExpenditure',\n",
       " 'MedicalCareExpenditure',\n",
       " 'TransportationExpenditure',\n",
       " 'CommunicationExpenditure',\n",
       " 'EducationExpenditure',\n",
       " 'MiscellaneousGoodsandServicesExpenditure',\n",
       " 'SpecialOccasionsExpenditure']"
      ]
     },
     "execution_count": 27,
     "metadata": {},
     "output_type": "execute_result"
    }
   ],
   "source": [
    "expenselist = []\n",
    "for i in data.columns:\n",
    "    if 'Expenditure' in i:\n",
    "        expenselist.append(i)\n",
    "expenselist"
   ]
  },
  {
   "cell_type": "markdown",
   "id": "bulgarian-running",
   "metadata": {},
   "source": [
    "We can further analyse this to understand how much of the spending is essential and how much is on luxuries. This could offer a useful discriminating factor for us to adjust taxation.\n",
    "\n",
    "We will predict the expenditure values (dependent variables) based on the other non-expense related features (independent variables). The most obvious methodology to attempt would be a multivariate analysis due to the number of features available.\n",
    "\n",
    "Continuous variables make good candidates for independent variables. However, there are a lot of categorical variables in the dataset which need to be encoded."
   ]
  },
  {
   "cell_type": "code",
   "execution_count": 28,
   "id": "white-argument",
   "metadata": {},
   "outputs": [],
   "source": [
    "obj_df = data.select_dtypes(include=['object']).copy()\n",
    "for item in obj_df.columns:\n",
    "    obj_df[item] = obj_df[item].astype('category')\n",
    "    obj_df[item] = obj_df[item].cat.codes\n",
    "    \n",
    "for item in data.columns:\n",
    "    if item in obj_df.columns:\n",
    "        data[item] = obj_df[item]"
   ]
  },
  {
   "cell_type": "markdown",
   "id": "southeast-laptop",
   "metadata": {},
   "source": [
    "## 4. Feature Selection\n",
    "\n",
    "There are a total of 60 features, many of which seem to be redundant.\n",
    "\n",
    "Expenditure can be consolidated into essentials and non-essentials."
   ]
  },
  {
   "cell_type": "code",
   "execution_count": 29,
   "id": "round-spencer",
   "metadata": {},
   "outputs": [],
   "source": [
    "data['TotalNecessaryExpenditure'] = data['BreadandCerealsExpenditure'] + data['TotalRiceExpenditure'] + data['MeatExpenditure'] + data['TotalFishandmarineproductsExpenditure'] + data['FruitExpenditure'] + data['VegetablesExpenditure'] + data['MedicalCareExpenditure']"
   ]
  },
  {
   "cell_type": "code",
   "execution_count": 30,
   "id": "laughing-missouri",
   "metadata": {},
   "outputs": [],
   "source": [
    "data['TotalUnnecessaryExpenditure'] = data['RestaurantandhotelsExpenditure'] + data['AlcoholicBeveragesExpenditure'] + data['TobaccoExpenditure'] + data['ClothingFootwearandOtherWearExpenditure'] + data['CommunicationExpenditure'] + data['MiscellaneousGoodsandServicesExpenditure'] + data['TransportationExpenditure'] + data['SpecialOccasionsExpenditure']"
   ]
  },
  {
   "cell_type": "markdown",
   "id": "relative-feature",
   "metadata": {},
   "source": [
    "Note that some features have been excluded from this as they are redundant or ambiguous. Ambiguous in this context means that they are likely to contain both scenarios of necessity and luxury.\n",
    "\n",
    "-- 'Total Food Expenditure' will be covered when adding up the spending on individual food items.\n",
    "\n",
    "-- 'Housing and Water Expenditure' is ambiguous. It could include rent for a small apartment as well as the mortgage for a luxury condo. \n",
    "\n",
    "-- 'Education Expenditure' should be encouraged, but there could also be people who splurge on expensive private schools or overseas education.\n",
    "\n",
    "-- 'Crop Farming and Gardening Expenses' may not apply to enough people above the minimum taxable income bracket to prove meaningful."
   ]
  },
  {
   "cell_type": "markdown",
   "id": "dramatic-departure",
   "metadata": {},
   "source": [
    "We also do not need so much granularity on the number of appliances owned. These can be combined under one feature."
   ]
  },
  {
   "cell_type": "code",
   "execution_count": 31,
   "id": "robust-kitchen",
   "metadata": {},
   "outputs": [],
   "source": [
    "data['TotalMovableAssets'] = data['NumberofTelevision'] + data['NumberofCDVCDDVD'] + data['NumberofComponentStereoset'] + data['NumberofRefrigeratorFreezer'] + data['NumberofWashingMachine'] + data['NumberofAirconditioner'] + data['NumberofCarJeepVan'] + data['NumberofLandlinewirelesstelephones'] + data['NumberofCellularphone'] + data['NumberofPersonalComputer'] + data['NumberofStovewithOvenGasRange'] + data['NumberofMotorizedBanca'] + data['NumberofMotorcycleTricycle']"
   ]
  },
  {
   "cell_type": "markdown",
   "id": "experienced-namibia",
   "metadata": {},
   "source": [
    "## 5. Feature Engineering"
   ]
  },
  {
   "cell_type": "markdown",
   "id": "included-deviation",
   "metadata": {},
   "source": [
    "There is information that can be gleaned from manipulating the existing features. These would be more valuable for modelling than the individual features themselves.\n",
    "We will create new features that relate to the expenses and quality of life of each household."
   ]
  },
  {
   "cell_type": "code",
   "execution_count": 32,
   "id": "inclusive-feeding",
   "metadata": {},
   "outputs": [],
   "source": [
    "data['Dependants'] = data['TotalNumberofFamilymembers']-data['Totalnumberoffamilymembersemployed']\n",
    "data['HouseSpacePerPerson'] = data['HouseFloorArea']/data['TotalNumberofFamilymembers']\n",
    "data['MovableAssetsPerPerson'] = data['TotalMovableAssets']/data['TotalNumberofFamilymembers']"
   ]
  },
  {
   "cell_type": "markdown",
   "id": "hispanic-yield",
   "metadata": {},
   "source": [
    "Create new column for the current taxes paid by each household, based on personal income tax quantums in the Philippines."
   ]
  },
  {
   "cell_type": "code",
   "execution_count": 33,
   "id": "passing-violin",
   "metadata": {},
   "outputs": [],
   "source": [
    "data['CurrentTaxPaid'] = 0\n",
    "\n",
    "for i,row in data.iterrows():\n",
    "    if row['TotalHouseholdIncome'] < 400000:\n",
    "        data.loc[i,'CurrentTaxPaid'] = 0.2 * (row['TotalHouseholdIncome']-250000)\n",
    "    elif row['TotalHouseholdIncome'] >= 400000 and row['TotalHouseholdIncome'] < 800000:\n",
    "        data.loc[i,'CurrentTaxPaid'] = 30000 + 0.25 * (row['TotalHouseholdIncome']-400000)\n",
    "    elif row['TotalHouseholdIncome'] >= 800000 and row['TotalHouseholdIncome'] < 2000000:\n",
    "        data.loc[i,'CurrentTaxPaid'] = 130000 + 0.3 * (row['TotalHouseholdIncome']-800000)\n",
    "    elif row['TotalHouseholdIncome'] >= 2000000 and row['TotalHouseholdIncome'] < 8000000:\n",
    "        data.loc[i,'CurrentTaxPaid'] = 490000 + 0.32 * (row['TotalHouseholdIncome']-2000000)\n",
    "    elif row['TotalHouseholdIncome'] >= 8000000:\n",
    "        data.loc[i,'CurrentTaxPaid'] = 2410000 + 0.35 * (row['TotalHouseholdIncome']-8000000)"
   ]
  },
  {
   "cell_type": "markdown",
   "id": "handy-compromise",
   "metadata": {},
   "source": [
    "Extract the relevant consolidated independent and dependent variables into a new dataframe."
   ]
  },
  {
   "cell_type": "code",
   "execution_count": 22,
   "id": "short-press",
   "metadata": {},
   "outputs": [],
   "source": [
    "mydata = data[['TotalHouseholdIncome','Region','MainSourceofIncome','AgriculturalHouseholdindicator','ImputedHouseRentalValue','HouseholdHeadSex','HouseholdHeadAge','HouseholdHeadMaritalStatus','HouseholdHeadHighestGradeCompleted','HouseholdHeadJoborBusinessIndicator', 'HouseholdHeadOccupation','HouseholdHeadClassofWorker', 'TypeofHousehold','Electricity','MainSourceofWaterSupply','Dependants','HouseSpacePerPerson','MovableAssetsPerPerson','TotalNecessaryExpenditure','TotalUnnecessaryExpenditure','CurrentTaxPaid']]"
   ]
  },
  {
   "cell_type": "code",
   "execution_count": 23,
   "id": "comic-morris",
   "metadata": {
    "tags": []
   },
   "outputs": [
    {
     "name": "stdout",
     "output_type": "stream",
     "text": [
      "<class 'pandas.core.frame.DataFrame'>\n",
      "Int64Index: 12807 entries, 0 to 41532\n",
      "Data columns (total 21 columns):\n",
      " #   Column                               Non-Null Count  Dtype  \n",
      "---  ------                               --------------  -----  \n",
      " 0   TotalHouseholdIncome                 12807 non-null  int64  \n",
      " 1   Region                               12807 non-null  int8   \n",
      " 2   MainSourceofIncome                   12807 non-null  int8   \n",
      " 3   AgriculturalHouseholdindicator       12807 non-null  int64  \n",
      " 4   ImputedHouseRentalValue              12807 non-null  int64  \n",
      " 5   HouseholdHeadSex                     12807 non-null  int8   \n",
      " 6   HouseholdHeadAge                     12807 non-null  int64  \n",
      " 7   HouseholdHeadMaritalStatus           12807 non-null  int8   \n",
      " 8   HouseholdHeadHighestGradeCompleted   12807 non-null  int8   \n",
      " 9   HouseholdHeadJoborBusinessIndicator  12807 non-null  int8   \n",
      " 10  HouseholdHeadOccupation              12807 non-null  int16  \n",
      " 11  HouseholdHeadClassofWorker           12807 non-null  int8   \n",
      " 12  TypeofHousehold                      12807 non-null  int8   \n",
      " 13  Electricity                          12807 non-null  int64  \n",
      " 14  MainSourceofWaterSupply              12807 non-null  int8   \n",
      " 15  Dependants                           12807 non-null  int64  \n",
      " 16  HouseSpacePerPerson                  12807 non-null  float64\n",
      " 17  MovableAssetsPerPerson               12807 non-null  float64\n",
      " 18  TotalNecessaryExpenditure            12807 non-null  int64  \n",
      " 19  TotalUnnecessaryExpenditure          12807 non-null  int64  \n",
      " 20  CurrentTaxPaid                       12807 non-null  float64\n",
      "dtypes: float64(3), int16(1), int64(8), int8(9)\n",
      "memory usage: 1.9 MB\n"
     ]
    }
   ],
   "source": [
    "mydata.info()"
   ]
  },
  {
   "cell_type": "markdown",
   "id": "handled-failing",
   "metadata": {},
   "source": [
    "We are left with a much more focused and relevant set of features on which to build our model."
   ]
  },
  {
   "cell_type": "markdown",
   "id": "modern-capitol",
   "metadata": {},
   "source": [
    "## 6. Outlier Management"
   ]
  },
  {
   "cell_type": "code",
   "execution_count": 24,
   "id": "smaller-encoding",
   "metadata": {
    "tags": []
   },
   "outputs": [
    {
     "data": {
      "text/plain": [
       "<AxesSubplot:>"
      ]
     },
     "execution_count": 24,
     "metadata": {},
     "output_type": "execute_result"
    },
    {
     "data": {
      "image/png": "[encoded data removed]",
      "text/plain": [
       "<Figure size 432x288 with 1 Axes>"
      ]
     },
     "metadata": {},
     "output_type": "display_data"
    }
   ],
   "source": [
    "mydata.boxplot(column=['TotalNecessaryExpenditure','TotalUnnecessaryExpenditure'])"
   ]
  },
  {
   "cell_type": "markdown",
   "id": "going-sullivan",
   "metadata": {},
   "source": [
    "As shown, there are significant outliers in the expenditure data. This is from a small handful of households which spend abnormally high amounts. This would be misrepresentative of the majority who may be relatively frugal. If we do not remove these outliers, our model would be biased towards predicting higher values for expenditure."
   ]
  },
  {
   "cell_type": "code",
   "execution_count": 25,
   "id": "initial-morrison",
   "metadata": {},
   "outputs": [
    {
     "data": {
      "text/plain": [
       "(10869, 21)"
      ]
     },
     "execution_count": 25,
     "metadata": {},
     "output_type": "execute_result"
    }
   ],
   "source": [
    "# Remove rows where the zscore for expenditure columns is beyond a threshold value.\n",
    "\n",
    "scores = scipy.stats.zscore(mydata[['TotalNecessaryExpenditure','TotalUnnecessaryExpenditure']])\n",
    "scores = np.abs(scores)\n",
    "filterer = (scores < 1.25).all(axis=1)\n",
    "mydata = mydata[filterer]\n",
    "mydata.shape"
   ]
  },
  {
   "cell_type": "code",
   "execution_count": 26,
   "id": "external-station",
   "metadata": {
    "tags": []
   },
   "outputs": [
    {
     "data": {
      "text/plain": [
       "<AxesSubplot:>"
      ]
     },
     "execution_count": 26,
     "metadata": {},
     "output_type": "execute_result"
    },
    {
     "data": {
      "image/png": "[encoded data removed]",
      "text/plain": [
       "<Figure size 432x288 with 1 Axes>"
      ]
     },
     "metadata": {},
     "output_type": "display_data"
    }
   ],
   "source": [
    "mydata.boxplot(column=['TotalNecessaryExpenditure','TotalUnnecessaryExpenditure'])"
   ]
  },
  {
   "cell_type": "markdown",
   "id": "constitutional-train",
   "metadata": {},
   "source": [
    "As observed, with a zscore threshold of 1.25, most of the outliers have been eliminated. The number of datapoints has decreased only slightly and the size of remaining dataset is still large. This dataset will provide a more accurate model for prediction."
   ]
  },
  {
   "cell_type": "markdown",
   "id": "baking-girlfriend",
   "metadata": {},
   "source": [
    "## 7. Data Modelling\n",
    "\n",
    "Split the data into training and test sets. Then perform predictions for 2 separate dependent variables: 'Predicted Necessary Expenditure' and 'Predicted Unnecessary Expenditure'."
   ]
  },
  {
   "cell_type": "code",
   "execution_count": 27,
   "id": "needed-gamma",
   "metadata": {},
   "outputs": [],
   "source": [
    "rng = np.random.RandomState(42)\n",
    "\n",
    "mydata_train, mydata_test = train_test_split(mydata, test_size=0.20, random_state=rng)"
   ]
  },
  {
   "cell_type": "code",
   "execution_count": 28,
   "id": "flexible-macro",
   "metadata": {},
   "outputs": [],
   "source": [
    "X_train = mydata_train.drop(['TotalNecessaryExpenditure','TotalUnnecessaryExpenditure','CurrentTaxPaid'], axis=1)\n",
    "X_test = mydata_test.drop(['TotalNecessaryExpenditure','TotalUnnecessaryExpenditure','CurrentTaxPaid'], axis=1)\n",
    "y_train1 = mydata_train['TotalNecessaryExpenditure']\n",
    "y_train2 = mydata_train['TotalUnnecessaryExpenditure']\n",
    "y_test1 = mydata_test['TotalNecessaryExpenditure']\n",
    "y_test2 = mydata_test['TotalUnnecessaryExpenditure']"
   ]
  },
  {
   "cell_type": "markdown",
   "id": "objective-funds",
   "metadata": {},
   "source": [
    "### -- Multiple Linear Regression"
   ]
  },
  {
   "cell_type": "code",
   "execution_count": 29,
   "id": "above-court",
   "metadata": {},
   "outputs": [
    {
     "name": "stdout",
     "output_type": "stream",
     "text": [
      "R-Score: 0.23212234271271737\n"
     ]
    }
   ],
   "source": [
    "mlr = LinearRegression()\n",
    "mlr.fit(X_train,y_train1)\n",
    "print(f'R-Score: {mlr.score(X_train,y_train1)}')"
   ]
  },
  {
   "cell_type": "markdown",
   "id": "prostate-biology",
   "metadata": {},
   "source": [
    "### -- Ridge Regression"
   ]
  },
  {
   "cell_type": "code",
   "execution_count": 30,
   "id": "coordinated-glance",
   "metadata": {
    "tags": []
   },
   "outputs": [
    {
     "name": "stdout",
     "output_type": "stream",
     "text": [
      "R-Score: 0.23212233931610804\n"
     ]
    }
   ],
   "source": [
    "rm = Ridge(alpha=0.1)\n",
    "rm.fit(X_train,y_train1)\n",
    "print(f'R-Score: {rm.score(X_train,y_train1)}')"
   ]
  },
  {
   "cell_type": "markdown",
   "id": "german-reservation",
   "metadata": {},
   "source": [
    "### -- Ridge Regression with Polynomial Regression"
   ]
  },
  {
   "cell_type": "code",
   "execution_count": 31,
   "id": "polyphonic-development",
   "metadata": {},
   "outputs": [
    {
     "name": "stdout",
     "output_type": "stream",
     "text": [
      "R-Score: 0.28310214211225193\n"
     ]
    },
    {
     "name": "stderr",
     "output_type": "stream",
     "text": [
      "C:\\Users\\rames\\anaconda3\\envs\\nus\\lib\\site-packages\\sklearn\\linear_model\\_ridge.py:148: LinAlgWarning: Ill-conditioned matrix (rcond=3.68846e-29): result may not be accurate.\n",
      "  overwrite_a=True).T\n"
     ]
    }
   ],
   "source": [
    "pr=PolynomialFeatures(degree=2, include_bias=False)\n",
    "x_train_pr = pr.fit_transform(X_train)\n",
    "rmpr = Ridge(alpha=0.1)\n",
    "rmpr.fit(x_train_pr,y_train1)\n",
    "print(f'R-Score: {rmpr.score(x_train_pr,y_train1)}')"
   ]
  },
  {
   "cell_type": "markdown",
   "id": "welsh-swedish",
   "metadata": {},
   "source": [
    "### -- Multiple Linear Regression with OLS"
   ]
  },
  {
   "cell_type": "code",
   "execution_count": 32,
   "id": "employed-former",
   "metadata": {
    "tags": []
   },
   "outputs": [
    {
     "data": {
      "text/html": [
       "<table class=\"simpletable\">\n",
       "<caption>OLS Regression Results</caption>\n",
       "<tr>\n",
       "  <th>Dep. Variable:</th>    <td>TotalNecessaryExpenditure</td> <th>  R-squared (uncentered):</th>       <td>   0.928</td>  \n",
       "</tr>\n",
       "<tr>\n",
       "  <th>Model:</th>                       <td>OLS</td>            <th>  Adj. R-squared (uncentered):</th>  <td>   0.928</td>  \n",
       "</tr>\n",
       "<tr>\n",
       "  <th>Method:</th>                 <td>Least Squares</td>       <th>  F-statistic:       </th>           <td>   6212.</td>  \n",
       "</tr>\n",
       "<tr>\n",
       "  <th>Date:</th>                 <td>Sat, 17 Apr 2021</td>      <th>  Prob (F-statistic):</th>            <td>  0.00</td>   \n",
       "</tr>\n",
       "<tr>\n",
       "  <th>Time:</th>                     <td>16:45:31</td>          <th>  Log-Likelihood:    </th>          <td>-1.0159e+05</td>\n",
       "</tr>\n",
       "<tr>\n",
       "  <th>No. Observations:</th>          <td>  8695</td>           <th>  AIC:               </th>           <td>2.032e+05</td> \n",
       "</tr>\n",
       "<tr>\n",
       "  <th>Df Residuals:</th>              <td>  8677</td>           <th>  BIC:               </th>           <td>2.033e+05</td> \n",
       "</tr>\n",
       "<tr>\n",
       "  <th>Df Model:</th>                  <td>    18</td>           <th>                     </th>               <td> </td>     \n",
       "</tr>\n",
       "<tr>\n",
       "  <th>Covariance Type:</th>          <td>nonrobust</td>         <th>                     </th>               <td> </td>     \n",
       "</tr>\n",
       "</table>\n",
       "<table class=\"simpletable\">\n",
       "<tr>\n",
       "                   <td></td>                      <th>coef</th>     <th>std err</th>      <th>t</th>      <th>P>|t|</th>  <th>[0.025</th>    <th>0.975]</th>  \n",
       "</tr>\n",
       "<tr>\n",
       "  <th>TotalHouseholdIncome</th>                <td>    0.0347</td> <td>    0.002</td> <td>   22.462</td> <td> 0.000</td> <td>    0.032</td> <td>    0.038</td>\n",
       "</tr>\n",
       "<tr>\n",
       "  <th>Region</th>                              <td>  397.4539</td> <td>   76.121</td> <td>    5.221</td> <td> 0.000</td> <td>  248.239</td> <td>  546.669</td>\n",
       "</tr>\n",
       "<tr>\n",
       "  <th>MainSourceofIncome</th>                  <td> 2994.1567</td> <td>  451.787</td> <td>    6.627</td> <td> 0.000</td> <td> 2108.546</td> <td> 3879.767</td>\n",
       "</tr>\n",
       "<tr>\n",
       "  <th>AgriculturalHouseholdindicator</th>      <td>-2569.1047</td> <td>  404.338</td> <td>   -6.354</td> <td> 0.000</td> <td>-3361.703</td> <td>-1776.507</td>\n",
       "</tr>\n",
       "<tr>\n",
       "  <th>ImputedHouseRentalValue</th>             <td>   -0.0123</td> <td>    0.008</td> <td>   -1.506</td> <td> 0.132</td> <td>   -0.028</td> <td>    0.004</td>\n",
       "</tr>\n",
       "<tr>\n",
       "  <th>HouseholdHeadSex</th>                    <td> 3828.2614</td> <td>  846.250</td> <td>    4.524</td> <td> 0.000</td> <td> 2169.410</td> <td> 5487.113</td>\n",
       "</tr>\n",
       "<tr>\n",
       "  <th>HouseholdHeadAge</th>                    <td>  325.6251</td> <td>   27.044</td> <td>   12.041</td> <td> 0.000</td> <td>  272.612</td> <td>  378.638</td>\n",
       "</tr>\n",
       "<tr>\n",
       "  <th>HouseholdHeadMaritalStatus</th>          <td> -215.6973</td> <td>  483.008</td> <td>   -0.447</td> <td> 0.655</td> <td>-1162.507</td> <td>  731.113</td>\n",
       "</tr>\n",
       "<tr>\n",
       "  <th>HouseholdHeadHighestGradeCompleted</th>  <td>   66.3931</td> <td>   23.857</td> <td>    2.783</td> <td> 0.005</td> <td>   19.627</td> <td>  113.159</td>\n",
       "</tr>\n",
       "<tr>\n",
       "  <th>HouseholdHeadJoborBusinessIndicator</th> <td> 3619.6134</td> <td> 1006.568</td> <td>    3.596</td> <td> 0.000</td> <td> 1646.502</td> <td> 5592.725</td>\n",
       "</tr>\n",
       "<tr>\n",
       "  <th>HouseholdHeadOccupation</th>             <td>   10.7605</td> <td>    3.789</td> <td>    2.840</td> <td> 0.005</td> <td>    3.334</td> <td>   18.187</td>\n",
       "</tr>\n",
       "<tr>\n",
       "  <th>HouseholdHeadClassofWorker</th>          <td> 1126.1566</td> <td>  240.945</td> <td>    4.674</td> <td> 0.000</td> <td>  653.847</td> <td> 1598.466</td>\n",
       "</tr>\n",
       "<tr>\n",
       "  <th>TypeofHousehold</th>                     <td>-2335.4403</td> <td>  670.308</td> <td>   -3.484</td> <td> 0.000</td> <td>-3649.402</td> <td>-1021.478</td>\n",
       "</tr>\n",
       "<tr>\n",
       "  <th>Electricity</th>                         <td> 3.109e+04</td> <td> 2269.383</td> <td>   13.700</td> <td> 0.000</td> <td> 2.66e+04</td> <td> 3.55e+04</td>\n",
       "</tr>\n",
       "<tr>\n",
       "  <th>MainSourceofWaterSupply</th>             <td> -158.2631</td> <td>  167.830</td> <td>   -0.943</td> <td> 0.346</td> <td> -487.250</td> <td>  170.724</td>\n",
       "</tr>\n",
       "<tr>\n",
       "  <th>Dependants</th>                          <td> 6633.5249</td> <td>  182.664</td> <td>   36.316</td> <td> 0.000</td> <td> 6275.461</td> <td> 6991.589</td>\n",
       "</tr>\n",
       "<tr>\n",
       "  <th>HouseSpacePerPerson</th>                 <td>  -58.7094</td> <td>   15.076</td> <td>   -3.894</td> <td> 0.000</td> <td>  -88.263</td> <td>  -29.156</td>\n",
       "</tr>\n",
       "<tr>\n",
       "  <th>MovableAssetsPerPerson</th>              <td>  631.0378</td> <td>  284.931</td> <td>    2.215</td> <td> 0.027</td> <td>   72.505</td> <td> 1189.570</td>\n",
       "</tr>\n",
       "</table>\n",
       "<table class=\"simpletable\">\n",
       "<tr>\n",
       "  <th>Omnibus:</th>       <td>292.989</td> <th>  Durbin-Watson:     </th> <td>   2.025</td>\n",
       "</tr>\n",
       "<tr>\n",
       "  <th>Prob(Omnibus):</th> <td> 0.000</td>  <th>  Jarque-Bera (JB):  </th> <td> 337.341</td>\n",
       "</tr>\n",
       "<tr>\n",
       "  <th>Skew:</th>          <td> 0.425</td>  <th>  Prob(JB):          </th> <td>5.59e-74</td>\n",
       "</tr>\n",
       "<tr>\n",
       "  <th>Kurtosis:</th>      <td> 3.456</td>  <th>  Cond. No.          </th> <td>3.70e+06</td>\n",
       "</tr>\n",
       "</table><br/><br/>Notes:<br/>[1] R² is computed without centering (uncentered) since the model does not contain a constant.<br/>[2] Standard Errors assume that the covariance matrix of the errors is correctly specified.<br/>[3] The condition number is large, 3.7e+06. This might indicate that there are<br/>strong multicollinearity or other numerical problems."
      ],
      "text/plain": [
       "<class 'statsmodels.iolib.summary.Summary'>\n",
       "\"\"\"\n",
       "                                    OLS Regression Results                                    \n",
       "==============================================================================================\n",
       "Dep. Variable:     TotalNecessaryExpenditure   R-squared (uncentered):                   0.928\n",
       "Model:                                   OLS   Adj. R-squared (uncentered):              0.928\n",
       "Method:                        Least Squares   F-statistic:                              6212.\n",
       "Date:                       Sat, 17 Apr 2021   Prob (F-statistic):                        0.00\n",
       "Time:                               16:45:31   Log-Likelihood:                     -1.0159e+05\n",
       "No. Observations:                       8695   AIC:                                  2.032e+05\n",
       "Df Residuals:                           8677   BIC:                                  2.033e+05\n",
       "Df Model:                                 18                                                  \n",
       "Covariance Type:                   nonrobust                                                  \n",
       "=======================================================================================================\n",
       "                                          coef    std err          t      P>|t|      [0.025      0.975]\n",
       "-------------------------------------------------------------------------------------------------------\n",
       "TotalHouseholdIncome                    0.0347      0.002     22.462      0.000       0.032       0.038\n",
       "Region                                397.4539     76.121      5.221      0.000     248.239     546.669\n",
       "MainSourceofIncome                   2994.1567    451.787      6.627      0.000    2108.546    3879.767\n",
       "AgriculturalHouseholdindicator      -2569.1047    404.338     -6.354      0.000   -3361.703   -1776.507\n",
       "ImputedHouseRentalValue                -0.0123      0.008     -1.506      0.132      -0.028       0.004\n",
       "HouseholdHeadSex                     3828.2614    846.250      4.524      0.000    2169.410    5487.113\n",
       "HouseholdHeadAge                      325.6251     27.044     12.041      0.000     272.612     378.638\n",
       "HouseholdHeadMaritalStatus           -215.6973    483.008     -0.447      0.655   -1162.507     731.113\n",
       "HouseholdHeadHighestGradeCompleted     66.3931     23.857      2.783      0.005      19.627     113.159\n",
       "HouseholdHeadJoborBusinessIndicator  3619.6134   1006.568      3.596      0.000    1646.502    5592.725\n",
       "HouseholdHeadOccupation                10.7605      3.789      2.840      0.005       3.334      18.187\n",
       "HouseholdHeadClassofWorker           1126.1566    240.945      4.674      0.000     653.847    1598.466\n",
       "TypeofHousehold                     -2335.4403    670.308     -3.484      0.000   -3649.402   -1021.478\n",
       "Electricity                          3.109e+04   2269.383     13.700      0.000    2.66e+04    3.55e+04\n",
       "MainSourceofWaterSupply              -158.2631    167.830     -0.943      0.346    -487.250     170.724\n",
       "Dependants                           6633.5249    182.664     36.316      0.000    6275.461    6991.589\n",
       "HouseSpacePerPerson                   -58.7094     15.076     -3.894      0.000     -88.263     -29.156\n",
       "MovableAssetsPerPerson                631.0378    284.931      2.215      0.027      72.505    1189.570\n",
       "==============================================================================\n",
       "Omnibus:                      292.989   Durbin-Watson:                   2.025\n",
       "Prob(Omnibus):                  0.000   Jarque-Bera (JB):              337.341\n",
       "Skew:                           0.425   Prob(JB):                     5.59e-74\n",
       "Kurtosis:                       3.456   Cond. No.                     3.70e+06\n",
       "==============================================================================\n",
       "\n",
       "Notes:\n",
       "[1] R² is computed without centering (uncentered) since the model does not contain a constant.\n",
       "[2] Standard Errors assume that the covariance matrix of the errors is correctly specified.\n",
       "[3] The condition number is large, 3.7e+06. This might indicate that there are\n",
       "strong multicollinearity or other numerical problems.\n",
       "\"\"\""
      ]
     },
     "execution_count": 32,
     "metadata": {},
     "output_type": "execute_result"
    }
   ],
   "source": [
    "mlrols = sm.OLS(y_train1, X_train).fit()\n",
    "mlrols.summary()"
   ]
  },
  {
   "cell_type": "markdown",
   "id": "plastic-strain",
   "metadata": {},
   "source": [
    "### -- Pipeline with Multiple Linear Regression"
   ]
  },
  {
   "cell_type": "code",
   "execution_count": 33,
   "id": "valid-effects",
   "metadata": {},
   "outputs": [
    {
     "name": "stdout",
     "output_type": "stream",
     "text": [
      "R-Score: 0.28310219160975114\n"
     ]
    }
   ],
   "source": [
    "Input=[('scale',StandardScaler()),('polynomial', PolynomialFeatures(include_bias=False)),('model',LinearRegression())]\n",
    "pipe=Pipeline(Input)\n",
    "pipe.fit(X_train,y_train1)\n",
    "print(f'R-Score: {pipe.score(X_train,y_train1)}')"
   ]
  },
  {
   "cell_type": "markdown",
   "id": "second-repair",
   "metadata": {},
   "source": [
    "### Multiple Linear Regression with OLS far outperforms the other models."
   ]
  },
  {
   "cell_type": "code",
   "execution_count": 34,
   "id": "cubic-count",
   "metadata": {
    "tags": []
   },
   "outputs": [
    {
     "data": {
      "text/html": [
       "<table class=\"simpletable\">\n",
       "<caption>OLS Regression Results</caption>\n",
       "<tr>\n",
       "  <th>Dep. Variable:</th>    <td>TotalNecessaryExpenditure</td> <th>  R-squared (uncentered):</th>       <td>   0.928</td>  \n",
       "</tr>\n",
       "<tr>\n",
       "  <th>Model:</th>                       <td>OLS</td>            <th>  Adj. R-squared (uncentered):</th>  <td>   0.928</td>  \n",
       "</tr>\n",
       "<tr>\n",
       "  <th>Method:</th>                 <td>Least Squares</td>       <th>  F-statistic:       </th>           <td>   6212.</td>  \n",
       "</tr>\n",
       "<tr>\n",
       "  <th>Date:</th>                 <td>Sat, 17 Apr 2021</td>      <th>  Prob (F-statistic):</th>            <td>  0.00</td>   \n",
       "</tr>\n",
       "<tr>\n",
       "  <th>Time:</th>                     <td>16:45:34</td>          <th>  Log-Likelihood:    </th>          <td>-1.0159e+05</td>\n",
       "</tr>\n",
       "<tr>\n",
       "  <th>No. Observations:</th>          <td>  8695</td>           <th>  AIC:               </th>           <td>2.032e+05</td> \n",
       "</tr>\n",
       "<tr>\n",
       "  <th>Df Residuals:</th>              <td>  8677</td>           <th>  BIC:               </th>           <td>2.033e+05</td> \n",
       "</tr>\n",
       "<tr>\n",
       "  <th>Df Model:</th>                  <td>    18</td>           <th>                     </th>               <td> </td>     \n",
       "</tr>\n",
       "<tr>\n",
       "  <th>Covariance Type:</th>          <td>nonrobust</td>         <th>                     </th>               <td> </td>     \n",
       "</tr>\n",
       "</table>\n",
       "<table class=\"simpletable\">\n",
       "<tr>\n",
       "                   <td></td>                      <th>coef</th>     <th>std err</th>      <th>t</th>      <th>P>|t|</th>  <th>[0.025</th>    <th>0.975]</th>  \n",
       "</tr>\n",
       "<tr>\n",
       "  <th>TotalHouseholdIncome</th>                <td>    0.0347</td> <td>    0.002</td> <td>   22.462</td> <td> 0.000</td> <td>    0.032</td> <td>    0.038</td>\n",
       "</tr>\n",
       "<tr>\n",
       "  <th>Region</th>                              <td>  397.4539</td> <td>   76.121</td> <td>    5.221</td> <td> 0.000</td> <td>  248.239</td> <td>  546.669</td>\n",
       "</tr>\n",
       "<tr>\n",
       "  <th>MainSourceofIncome</th>                  <td> 2994.1567</td> <td>  451.787</td> <td>    6.627</td> <td> 0.000</td> <td> 2108.546</td> <td> 3879.767</td>\n",
       "</tr>\n",
       "<tr>\n",
       "  <th>AgriculturalHouseholdindicator</th>      <td>-2569.1047</td> <td>  404.338</td> <td>   -6.354</td> <td> 0.000</td> <td>-3361.703</td> <td>-1776.507</td>\n",
       "</tr>\n",
       "<tr>\n",
       "  <th>ImputedHouseRentalValue</th>             <td>   -0.0123</td> <td>    0.008</td> <td>   -1.506</td> <td> 0.132</td> <td>   -0.028</td> <td>    0.004</td>\n",
       "</tr>\n",
       "<tr>\n",
       "  <th>HouseholdHeadSex</th>                    <td> 3828.2614</td> <td>  846.250</td> <td>    4.524</td> <td> 0.000</td> <td> 2169.410</td> <td> 5487.113</td>\n",
       "</tr>\n",
       "<tr>\n",
       "  <th>HouseholdHeadAge</th>                    <td>  325.6251</td> <td>   27.044</td> <td>   12.041</td> <td> 0.000</td> <td>  272.612</td> <td>  378.638</td>\n",
       "</tr>\n",
       "<tr>\n",
       "  <th>HouseholdHeadMaritalStatus</th>          <td> -215.6973</td> <td>  483.008</td> <td>   -0.447</td> <td> 0.655</td> <td>-1162.507</td> <td>  731.113</td>\n",
       "</tr>\n",
       "<tr>\n",
       "  <th>HouseholdHeadHighestGradeCompleted</th>  <td>   66.3931</td> <td>   23.857</td> <td>    2.783</td> <td> 0.005</td> <td>   19.627</td> <td>  113.159</td>\n",
       "</tr>\n",
       "<tr>\n",
       "  <th>HouseholdHeadJoborBusinessIndicator</th> <td> 3619.6134</td> <td> 1006.568</td> <td>    3.596</td> <td> 0.000</td> <td> 1646.502</td> <td> 5592.725</td>\n",
       "</tr>\n",
       "<tr>\n",
       "  <th>HouseholdHeadOccupation</th>             <td>   10.7605</td> <td>    3.789</td> <td>    2.840</td> <td> 0.005</td> <td>    3.334</td> <td>   18.187</td>\n",
       "</tr>\n",
       "<tr>\n",
       "  <th>HouseholdHeadClassofWorker</th>          <td> 1126.1566</td> <td>  240.945</td> <td>    4.674</td> <td> 0.000</td> <td>  653.847</td> <td> 1598.466</td>\n",
       "</tr>\n",
       "<tr>\n",
       "  <th>TypeofHousehold</th>                     <td>-2335.4403</td> <td>  670.308</td> <td>   -3.484</td> <td> 0.000</td> <td>-3649.402</td> <td>-1021.478</td>\n",
       "</tr>\n",
       "<tr>\n",
       "  <th>Electricity</th>                         <td> 3.109e+04</td> <td> 2269.383</td> <td>   13.700</td> <td> 0.000</td> <td> 2.66e+04</td> <td> 3.55e+04</td>\n",
       "</tr>\n",
       "<tr>\n",
       "  <th>MainSourceofWaterSupply</th>             <td> -158.2631</td> <td>  167.830</td> <td>   -0.943</td> <td> 0.346</td> <td> -487.250</td> <td>  170.724</td>\n",
       "</tr>\n",
       "<tr>\n",
       "  <th>Dependants</th>                          <td> 6633.5249</td> <td>  182.664</td> <td>   36.316</td> <td> 0.000</td> <td> 6275.461</td> <td> 6991.589</td>\n",
       "</tr>\n",
       "<tr>\n",
       "  <th>HouseSpacePerPerson</th>                 <td>  -58.7094</td> <td>   15.076</td> <td>   -3.894</td> <td> 0.000</td> <td>  -88.263</td> <td>  -29.156</td>\n",
       "</tr>\n",
       "<tr>\n",
       "  <th>MovableAssetsPerPerson</th>              <td>  631.0378</td> <td>  284.931</td> <td>    2.215</td> <td> 0.027</td> <td>   72.505</td> <td> 1189.570</td>\n",
       "</tr>\n",
       "</table>\n",
       "<table class=\"simpletable\">\n",
       "<tr>\n",
       "  <th>Omnibus:</th>       <td>292.989</td> <th>  Durbin-Watson:     </th> <td>   2.025</td>\n",
       "</tr>\n",
       "<tr>\n",
       "  <th>Prob(Omnibus):</th> <td> 0.000</td>  <th>  Jarque-Bera (JB):  </th> <td> 337.341</td>\n",
       "</tr>\n",
       "<tr>\n",
       "  <th>Skew:</th>          <td> 0.425</td>  <th>  Prob(JB):          </th> <td>5.59e-74</td>\n",
       "</tr>\n",
       "<tr>\n",
       "  <th>Kurtosis:</th>      <td> 3.456</td>  <th>  Cond. No.          </th> <td>3.70e+06</td>\n",
       "</tr>\n",
       "</table><br/><br/>Notes:<br/>[1] R² is computed without centering (uncentered) since the model does not contain a constant.<br/>[2] Standard Errors assume that the covariance matrix of the errors is correctly specified.<br/>[3] The condition number is large, 3.7e+06. This might indicate that there are<br/>strong multicollinearity or other numerical problems."
      ],
      "text/plain": [
       "<class 'statsmodels.iolib.summary.Summary'>\n",
       "\"\"\"\n",
       "                                    OLS Regression Results                                    \n",
       "==============================================================================================\n",
       "Dep. Variable:     TotalNecessaryExpenditure   R-squared (uncentered):                   0.928\n",
       "Model:                                   OLS   Adj. R-squared (uncentered):              0.928\n",
       "Method:                        Least Squares   F-statistic:                              6212.\n",
       "Date:                       Sat, 17 Apr 2021   Prob (F-statistic):                        0.00\n",
       "Time:                               16:45:34   Log-Likelihood:                     -1.0159e+05\n",
       "No. Observations:                       8695   AIC:                                  2.032e+05\n",
       "Df Residuals:                           8677   BIC:                                  2.033e+05\n",
       "Df Model:                                 18                                                  \n",
       "Covariance Type:                   nonrobust                                                  \n",
       "=======================================================================================================\n",
       "                                          coef    std err          t      P>|t|      [0.025      0.975]\n",
       "-------------------------------------------------------------------------------------------------------\n",
       "TotalHouseholdIncome                    0.0347      0.002     22.462      0.000       0.032       0.038\n",
       "Region                                397.4539     76.121      5.221      0.000     248.239     546.669\n",
       "MainSourceofIncome                   2994.1567    451.787      6.627      0.000    2108.546    3879.767\n",
       "AgriculturalHouseholdindicator      -2569.1047    404.338     -6.354      0.000   -3361.703   -1776.507\n",
       "ImputedHouseRentalValue                -0.0123      0.008     -1.506      0.132      -0.028       0.004\n",
       "HouseholdHeadSex                     3828.2614    846.250      4.524      0.000    2169.410    5487.113\n",
       "HouseholdHeadAge                      325.6251     27.044     12.041      0.000     272.612     378.638\n",
       "HouseholdHeadMaritalStatus           -215.6973    483.008     -0.447      0.655   -1162.507     731.113\n",
       "HouseholdHeadHighestGradeCompleted     66.3931     23.857      2.783      0.005      19.627     113.159\n",
       "HouseholdHeadJoborBusinessIndicator  3619.6134   1006.568      3.596      0.000    1646.502    5592.725\n",
       "HouseholdHeadOccupation                10.7605      3.789      2.840      0.005       3.334      18.187\n",
       "HouseholdHeadClassofWorker           1126.1566    240.945      4.674      0.000     653.847    1598.466\n",
       "TypeofHousehold                     -2335.4403    670.308     -3.484      0.000   -3649.402   -1021.478\n",
       "Electricity                          3.109e+04   2269.383     13.700      0.000    2.66e+04    3.55e+04\n",
       "MainSourceofWaterSupply              -158.2631    167.830     -0.943      0.346    -487.250     170.724\n",
       "Dependants                           6633.5249    182.664     36.316      0.000    6275.461    6991.589\n",
       "HouseSpacePerPerson                   -58.7094     15.076     -3.894      0.000     -88.263     -29.156\n",
       "MovableAssetsPerPerson                631.0378    284.931      2.215      0.027      72.505    1189.570\n",
       "==============================================================================\n",
       "Omnibus:                      292.989   Durbin-Watson:                   2.025\n",
       "Prob(Omnibus):                  0.000   Jarque-Bera (JB):              337.341\n",
       "Skew:                           0.425   Prob(JB):                     5.59e-74\n",
       "Kurtosis:                       3.456   Cond. No.                     3.70e+06\n",
       "==============================================================================\n",
       "\n",
       "Notes:\n",
       "[1] R² is computed without centering (uncentered) since the model does not contain a constant.\n",
       "[2] Standard Errors assume that the covariance matrix of the errors is correctly specified.\n",
       "[3] The condition number is large, 3.7e+06. This might indicate that there are\n",
       "strong multicollinearity or other numerical problems.\n",
       "\"\"\""
      ]
     },
     "execution_count": 34,
     "metadata": {},
     "output_type": "execute_result"
    }
   ],
   "source": [
    "# For necessary expenditure prediction\n",
    "\n",
    "mymodel_mlr1 = sm.OLS(y_train1, X_train).fit()\n",
    "predictions1 = mymodel_mlr1.predict(X_test)\n",
    "mymodel_mlr1.summary()"
   ]
  },
  {
   "cell_type": "code",
   "execution_count": 35,
   "id": "guilty-template",
   "metadata": {
    "tags": []
   },
   "outputs": [
    {
     "data": {
      "text/html": [
       "<table class=\"simpletable\">\n",
       "<caption>OLS Regression Results</caption>\n",
       "<tr>\n",
       "  <th>Dep. Variable:</th>    <td>TotalUnnecessaryExpenditure</td> <th>  R-squared (uncentered):</th>       <td>   0.874</td>  \n",
       "</tr>\n",
       "<tr>\n",
       "  <th>Model:</th>                        <td>OLS</td>             <th>  Adj. R-squared (uncentered):</th>  <td>   0.874</td>  \n",
       "</tr>\n",
       "<tr>\n",
       "  <th>Method:</th>                  <td>Least Squares</td>        <th>  F-statistic:       </th>           <td>   3354.</td>  \n",
       "</tr>\n",
       "<tr>\n",
       "  <th>Date:</th>                  <td>Sat, 17 Apr 2021</td>       <th>  Prob (F-statistic):</th>            <td>  0.00</td>   \n",
       "</tr>\n",
       "<tr>\n",
       "  <th>Time:</th>                      <td>16:45:35</td>           <th>  Log-Likelihood:    </th>          <td>-1.0425e+05</td>\n",
       "</tr>\n",
       "<tr>\n",
       "  <th>No. Observations:</th>           <td>  8695</td>            <th>  AIC:               </th>           <td>2.085e+05</td> \n",
       "</tr>\n",
       "<tr>\n",
       "  <th>Df Residuals:</th>               <td>  8677</td>            <th>  BIC:               </th>           <td>2.087e+05</td> \n",
       "</tr>\n",
       "<tr>\n",
       "  <th>Df Model:</th>                   <td>    18</td>            <th>                     </th>               <td> </td>     \n",
       "</tr>\n",
       "<tr>\n",
       "  <th>Covariance Type:</th>           <td>nonrobust</td>          <th>                     </th>               <td> </td>     \n",
       "</tr>\n",
       "</table>\n",
       "<table class=\"simpletable\">\n",
       "<tr>\n",
       "                   <td></td>                      <th>coef</th>     <th>std err</th>      <th>t</th>      <th>P>|t|</th>  <th>[0.025</th>    <th>0.975]</th>  \n",
       "</tr>\n",
       "<tr>\n",
       "  <th>TotalHouseholdIncome</th>                <td>    0.0967</td> <td>    0.002</td> <td>   46.043</td> <td> 0.000</td> <td>    0.093</td> <td>    0.101</td>\n",
       "</tr>\n",
       "<tr>\n",
       "  <th>Region</th>                              <td>   46.6913</td> <td>  103.393</td> <td>    0.452</td> <td> 0.652</td> <td> -155.984</td> <td>  249.366</td>\n",
       "</tr>\n",
       "<tr>\n",
       "  <th>MainSourceofIncome</th>                  <td> 1.539e+04</td> <td>  613.650</td> <td>   25.078</td> <td> 0.000</td> <td> 1.42e+04</td> <td> 1.66e+04</td>\n",
       "</tr>\n",
       "<tr>\n",
       "  <th>AgriculturalHouseholdindicator</th>      <td> 4324.5808</td> <td>  549.200</td> <td>    7.874</td> <td> 0.000</td> <td> 3248.018</td> <td> 5401.144</td>\n",
       "</tr>\n",
       "<tr>\n",
       "  <th>ImputedHouseRentalValue</th>             <td>    0.0081</td> <td>    0.011</td> <td>    0.736</td> <td> 0.462</td> <td>   -0.014</td> <td>    0.030</td>\n",
       "</tr>\n",
       "<tr>\n",
       "  <th>HouseholdHeadSex</th>                    <td> 1922.7077</td> <td> 1149.437</td> <td>    1.673</td> <td> 0.094</td> <td> -330.462</td> <td> 4175.877</td>\n",
       "</tr>\n",
       "<tr>\n",
       "  <th>HouseholdHeadAge</th>                    <td> -331.1086</td> <td>   36.733</td> <td>   -9.014</td> <td> 0.000</td> <td> -403.114</td> <td> -259.103</td>\n",
       "</tr>\n",
       "<tr>\n",
       "  <th>HouseholdHeadMaritalStatus</th>          <td> 1724.0517</td> <td>  656.055</td> <td>    2.628</td> <td> 0.009</td> <td>  438.027</td> <td> 3010.076</td>\n",
       "</tr>\n",
       "<tr>\n",
       "  <th>HouseholdHeadHighestGradeCompleted</th>  <td>  -71.8529</td> <td>   32.405</td> <td>   -2.217</td> <td> 0.027</td> <td> -135.374</td> <td>   -8.332</td>\n",
       "</tr>\n",
       "<tr>\n",
       "  <th>HouseholdHeadJoborBusinessIndicator</th> <td> 4978.0920</td> <td> 1367.191</td> <td>    3.641</td> <td> 0.000</td> <td> 2298.072</td> <td> 7658.112</td>\n",
       "</tr>\n",
       "<tr>\n",
       "  <th>HouseholdHeadOccupation</th>             <td>   17.9398</td> <td>    5.146</td> <td>    3.486</td> <td> 0.000</td> <td>    7.853</td> <td>   28.027</td>\n",
       "</tr>\n",
       "<tr>\n",
       "  <th>HouseholdHeadClassofWorker</th>          <td> 1080.4084</td> <td>  327.269</td> <td>    3.301</td> <td> 0.001</td> <td>  438.884</td> <td> 1721.933</td>\n",
       "</tr>\n",
       "<tr>\n",
       "  <th>TypeofHousehold</th>                     <td>-2273.0270</td> <td>  910.459</td> <td>   -2.497</td> <td> 0.013</td> <td>-4057.743</td> <td> -488.311</td>\n",
       "</tr>\n",
       "<tr>\n",
       "  <th>Electricity</th>                         <td>  3.06e+04</td> <td> 3082.437</td> <td>    9.927</td> <td> 0.000</td> <td> 2.46e+04</td> <td> 3.66e+04</td>\n",
       "</tr>\n",
       "<tr>\n",
       "  <th>MainSourceofWaterSupply</th>             <td>-1425.9580</td> <td>  227.959</td> <td>   -6.255</td> <td> 0.000</td> <td>-1872.811</td> <td> -979.105</td>\n",
       "</tr>\n",
       "<tr>\n",
       "  <th>Dependants</th>                          <td> 1266.2673</td> <td>  248.107</td> <td>    5.104</td> <td> 0.000</td> <td>  779.919</td> <td> 1752.616</td>\n",
       "</tr>\n",
       "<tr>\n",
       "  <th>HouseSpacePerPerson</th>                 <td> -207.7245</td> <td>   20.478</td> <td>  -10.144</td> <td> 0.000</td> <td> -247.866</td> <td> -167.583</td>\n",
       "</tr>\n",
       "<tr>\n",
       "  <th>MovableAssetsPerPerson</th>              <td> 5889.8389</td> <td>  387.013</td> <td>   15.219</td> <td> 0.000</td> <td> 5131.201</td> <td> 6648.477</td>\n",
       "</tr>\n",
       "</table>\n",
       "<table class=\"simpletable\">\n",
       "<tr>\n",
       "  <th>Omnibus:</th>       <td>552.637</td> <th>  Durbin-Watson:     </th> <td>   1.990</td>\n",
       "</tr>\n",
       "<tr>\n",
       "  <th>Prob(Omnibus):</th> <td> 0.000</td>  <th>  Jarque-Bera (JB):  </th> <td>2028.759</td>\n",
       "</tr>\n",
       "<tr>\n",
       "  <th>Skew:</th>          <td> 0.232</td>  <th>  Prob(JB):          </th> <td>    0.00</td>\n",
       "</tr>\n",
       "<tr>\n",
       "  <th>Kurtosis:</th>      <td> 5.320</td>  <th>  Cond. No.          </th> <td>3.70e+06</td>\n",
       "</tr>\n",
       "</table><br/><br/>Notes:<br/>[1] R² is computed without centering (uncentered) since the model does not contain a constant.<br/>[2] Standard Errors assume that the covariance matrix of the errors is correctly specified.<br/>[3] The condition number is large, 3.7e+06. This might indicate that there are<br/>strong multicollinearity or other numerical problems."
      ],
      "text/plain": [
       "<class 'statsmodels.iolib.summary.Summary'>\n",
       "\"\"\"\n",
       "                                     OLS Regression Results                                     \n",
       "================================================================================================\n",
       "Dep. Variable:     TotalUnnecessaryExpenditure   R-squared (uncentered):                   0.874\n",
       "Model:                                     OLS   Adj. R-squared (uncentered):              0.874\n",
       "Method:                          Least Squares   F-statistic:                              3354.\n",
       "Date:                         Sat, 17 Apr 2021   Prob (F-statistic):                        0.00\n",
       "Time:                                 16:45:35   Log-Likelihood:                     -1.0425e+05\n",
       "No. Observations:                         8695   AIC:                                  2.085e+05\n",
       "Df Residuals:                             8677   BIC:                                  2.087e+05\n",
       "Df Model:                                   18                                                  \n",
       "Covariance Type:                     nonrobust                                                  \n",
       "=======================================================================================================\n",
       "                                          coef    std err          t      P>|t|      [0.025      0.975]\n",
       "-------------------------------------------------------------------------------------------------------\n",
       "TotalHouseholdIncome                    0.0967      0.002     46.043      0.000       0.093       0.101\n",
       "Region                                 46.6913    103.393      0.452      0.652    -155.984     249.366\n",
       "MainSourceofIncome                   1.539e+04    613.650     25.078      0.000    1.42e+04    1.66e+04\n",
       "AgriculturalHouseholdindicator       4324.5808    549.200      7.874      0.000    3248.018    5401.144\n",
       "ImputedHouseRentalValue                 0.0081      0.011      0.736      0.462      -0.014       0.030\n",
       "HouseholdHeadSex                     1922.7077   1149.437      1.673      0.094    -330.462    4175.877\n",
       "HouseholdHeadAge                     -331.1086     36.733     -9.014      0.000    -403.114    -259.103\n",
       "HouseholdHeadMaritalStatus           1724.0517    656.055      2.628      0.009     438.027    3010.076\n",
       "HouseholdHeadHighestGradeCompleted    -71.8529     32.405     -2.217      0.027    -135.374      -8.332\n",
       "HouseholdHeadJoborBusinessIndicator  4978.0920   1367.191      3.641      0.000    2298.072    7658.112\n",
       "HouseholdHeadOccupation                17.9398      5.146      3.486      0.000       7.853      28.027\n",
       "HouseholdHeadClassofWorker           1080.4084    327.269      3.301      0.001     438.884    1721.933\n",
       "TypeofHousehold                     -2273.0270    910.459     -2.497      0.013   -4057.743    -488.311\n",
       "Electricity                           3.06e+04   3082.437      9.927      0.000    2.46e+04    3.66e+04\n",
       "MainSourceofWaterSupply             -1425.9580    227.959     -6.255      0.000   -1872.811    -979.105\n",
       "Dependants                           1266.2673    248.107      5.104      0.000     779.919    1752.616\n",
       "HouseSpacePerPerson                  -207.7245     20.478    -10.144      0.000    -247.866    -167.583\n",
       "MovableAssetsPerPerson               5889.8389    387.013     15.219      0.000    5131.201    6648.477\n",
       "==============================================================================\n",
       "Omnibus:                      552.637   Durbin-Watson:                   1.990\n",
       "Prob(Omnibus):                  0.000   Jarque-Bera (JB):             2028.759\n",
       "Skew:                           0.232   Prob(JB):                         0.00\n",
       "Kurtosis:                       5.320   Cond. No.                     3.70e+06\n",
       "==============================================================================\n",
       "\n",
       "Notes:\n",
       "[1] R² is computed without centering (uncentered) since the model does not contain a constant.\n",
       "[2] Standard Errors assume that the covariance matrix of the errors is correctly specified.\n",
       "[3] The condition number is large, 3.7e+06. This might indicate that there are\n",
       "strong multicollinearity or other numerical problems.\n",
       "\"\"\""
      ]
     },
     "execution_count": 35,
     "metadata": {},
     "output_type": "execute_result"
    }
   ],
   "source": [
    "# For unnecessary expenditure prediction\n",
    "\n",
    "mymodel_mlr2 = sm.OLS(y_train2, X_train).fit()\n",
    "predictions2 = mymodel_mlr2.predict(X_test)\n",
    "mymodel_mlr2.summary()"
   ]
  },
  {
   "cell_type": "markdown",
   "id": "wireless-instruction",
   "metadata": {
    "tags": []
   },
   "source": [
    "## 8. Results and Recommendations\n",
    "\n",
    "Create a y_test dataframe and append the predictions to it."
   ]
  },
  {
   "cell_type": "code",
   "execution_count": 36,
   "id": "funny-beach",
   "metadata": {},
   "outputs": [],
   "source": [
    "y_test = pd.concat((mydata_test.drop(['TotalNecessaryExpenditure','TotalUnnecessaryExpenditure'], axis=1), predictions1, predictions2), axis=1)\n",
    "y_test.rename(columns = {0: 'PredNecessaryExp', 1: 'PredUnnecessaryExp'}, inplace = True)"
   ]
  },
  {
   "cell_type": "markdown",
   "id": "experienced-radical",
   "metadata": {},
   "source": [
    "Create new column for adjusted tax recommendation based on the predicted expenses. \n",
    "\n",
    "Formula for tax adjustment is: (Predicted Unnecessary Tax / Predicted Necessary Tax) * Current Tax\n",
    "\n",
    "Export results to separate dataframe."
   ]
  },
  {
   "cell_type": "code",
   "execution_count": 37,
   "id": "spoken-allergy",
   "metadata": {},
   "outputs": [],
   "source": [
    "y_test['AdjustedTax'] = 0\n",
    "\n",
    "for i, row in y_test.iterrows():\n",
    "    y_test.loc[i,'AdjustedTax'] = row['PredUnnecessaryExp']/row['PredNecessaryExp'] * row['CurrentTaxPaid']\n",
    "\n",
    "results = y_test[['PredNecessaryExp','PredUnnecessaryExp','CurrentTaxPaid','AdjustedTax']]"
   ]
  },
  {
   "cell_type": "code",
   "execution_count": 38,
   "id": "active-validity",
   "metadata": {
    "tags": []
   },
   "outputs": [
    {
     "data": {
      "text/html": [
       "<div>\n",
       "<style scoped>\n",
       "    .dataframe tbody tr th:only-of-type {\n",
       "        vertical-align: middle;\n",
       "    }\n",
       "\n",
       "    .dataframe tbody tr th {\n",
       "        vertical-align: top;\n",
       "    }\n",
       "\n",
       "    .dataframe thead th {\n",
       "        text-align: right;\n",
       "    }\n",
       "</style>\n",
       "<table border=\"1\" class=\"dataframe\">\n",
       "  <thead>\n",
       "    <tr style=\"text-align: right;\">\n",
       "      <th></th>\n",
       "      <th>PredNecessaryExp</th>\n",
       "      <th>PredUnnecessaryExp</th>\n",
       "      <th>CurrentTaxPaid</th>\n",
       "      <th>AdjustedTax</th>\n",
       "    </tr>\n",
       "  </thead>\n",
       "  <tbody>\n",
       "    <tr>\n",
       "      <th>16231</th>\n",
       "      <td>104153.206562</td>\n",
       "      <td>119927.778406</td>\n",
       "      <td>68637.50</td>\n",
       "      <td>79033.024157</td>\n",
       "    </tr>\n",
       "    <tr>\n",
       "      <th>5425</th>\n",
       "      <td>102052.455363</td>\n",
       "      <td>86548.213418</td>\n",
       "      <td>61895.75</td>\n",
       "      <td>52492.285086</td>\n",
       "    </tr>\n",
       "    <tr>\n",
       "      <th>9170</th>\n",
       "      <td>73412.022676</td>\n",
       "      <td>93473.014288</td>\n",
       "      <td>18560.40</td>\n",
       "      <td>23632.321671</td>\n",
       "    </tr>\n",
       "    <tr>\n",
       "      <th>20837</th>\n",
       "      <td>91259.384121</td>\n",
       "      <td>115878.937829</td>\n",
       "      <td>28014.40</td>\n",
       "      <td>35572.001139</td>\n",
       "    </tr>\n",
       "    <tr>\n",
       "      <th>5858</th>\n",
       "      <td>106349.018510</td>\n",
       "      <td>84359.604875</td>\n",
       "      <td>347.60</td>\n",
       "      <td>275.727967</td>\n",
       "    </tr>\n",
       "  </tbody>\n",
       "</table>\n",
       "</div>"
      ],
      "text/plain": [
       "       PredNecessaryExp  PredUnnecessaryExp  CurrentTaxPaid   AdjustedTax\n",
       "16231     104153.206562       119927.778406        68637.50  79033.024157\n",
       "5425      102052.455363        86548.213418        61895.75  52492.285086\n",
       "9170       73412.022676        93473.014288        18560.40  23632.321671\n",
       "20837      91259.384121       115878.937829        28014.40  35572.001139\n",
       "5858      106349.018510        84359.604875          347.60    275.727967"
      ]
     },
     "execution_count": 38,
     "metadata": {},
     "output_type": "execute_result"
    }
   ],
   "source": [
    "results.head()"
   ]
  },
  {
   "cell_type": "markdown",
   "id": "uniform-impression",
   "metadata": {},
   "source": [
    "Compare the total taxes collected from the test group, using the current tax and the recommended tax."
   ]
  },
  {
   "cell_type": "code",
   "execution_count": 39,
   "id": "engaged-accent",
   "metadata": {},
   "outputs": [
    {
     "name": "stdout",
     "output_type": "stream",
     "text": [
      "14.10% increase in tax collected!\n"
     ]
    }
   ],
   "source": [
    "previousTotalTax = results['CurrentTaxPaid'].sum()\n",
    "currentTotalTax = results['AdjustedTax'].sum()\n",
    "\n",
    "print(f'{((currentTotalTax-previousTotalTax)/currentTotalTax)*100:.2f}% increase in tax collected!')"
   ]
  },
  {
   "cell_type": "markdown",
   "id": "transparent-large",
   "metadata": {},
   "source": [
    "As seen, the total tax collected increases significantly as well. The intent is to offset the tax relief on necessary spending by increasing tax on unnecessary spending. This should maintain the value of total tax collected at relatively consistent levels. This shows that our new model does not shortchange the government on tax revenue."
   ]
  },
  {
   "cell_type": "markdown",
   "id": "preceding-substance",
   "metadata": {},
   "source": [
    "## 9. Result Visualisation"
   ]
  },
  {
   "cell_type": "markdown",
   "id": "coral-neighborhood",
   "metadata": {},
   "source": [
    "Accuracy of Predictions"
   ]
  },
  {
   "cell_type": "code",
   "execution_count": 40,
   "id": "corrected-myrtle",
   "metadata": {},
   "outputs": [],
   "source": [
    "results.reset_index(inplace=True)\n",
    "mydata_test.reset_index(inplace=True)"
   ]
  },
  {
   "cell_type": "code",
   "execution_count": 64,
   "id": "mysterious-stress",
   "metadata": {},
   "outputs": [
    {
     "data": {
      "text/html": [
       "<div>\n",
       "<style scoped>\n",
       "    .dataframe tbody tr th:only-of-type {\n",
       "        vertical-align: middle;\n",
       "    }\n",
       "\n",
       "    .dataframe tbody tr th {\n",
       "        vertical-align: top;\n",
       "    }\n",
       "\n",
       "    .dataframe thead th {\n",
       "        text-align: right;\n",
       "    }\n",
       "</style>\n",
       "<table border=\"1\" class=\"dataframe\">\n",
       "  <thead>\n",
       "    <tr style=\"text-align: right;\">\n",
       "      <th></th>\n",
       "      <th>index</th>\n",
       "      <th>PredNecessaryExp</th>\n",
       "      <th>PredUnnecessaryExp</th>\n",
       "      <th>CurrentTaxPaid</th>\n",
       "      <th>AdjustedTax</th>\n",
       "    </tr>\n",
       "  </thead>\n",
       "  <tbody>\n",
       "    <tr>\n",
       "      <th>0</th>\n",
       "      <td>16231</td>\n",
       "      <td>104153.206562</td>\n",
       "      <td>119927.778406</td>\n",
       "      <td>68637.50</td>\n",
       "      <td>79033.024157</td>\n",
       "    </tr>\n",
       "    <tr>\n",
       "      <th>1</th>\n",
       "      <td>5425</td>\n",
       "      <td>102052.455363</td>\n",
       "      <td>86548.213418</td>\n",
       "      <td>61895.75</td>\n",
       "      <td>52492.285086</td>\n",
       "    </tr>\n",
       "    <tr>\n",
       "      <th>2</th>\n",
       "      <td>9170</td>\n",
       "      <td>73412.022676</td>\n",
       "      <td>93473.014288</td>\n",
       "      <td>18560.40</td>\n",
       "      <td>23632.321671</td>\n",
       "    </tr>\n",
       "    <tr>\n",
       "      <th>3</th>\n",
       "      <td>20837</td>\n",
       "      <td>91259.384121</td>\n",
       "      <td>115878.937829</td>\n",
       "      <td>28014.40</td>\n",
       "      <td>35572.001139</td>\n",
       "    </tr>\n",
       "    <tr>\n",
       "      <th>4</th>\n",
       "      <td>5858</td>\n",
       "      <td>106349.018510</td>\n",
       "      <td>84359.604875</td>\n",
       "      <td>347.60</td>\n",
       "      <td>275.727967</td>\n",
       "    </tr>\n",
       "  </tbody>\n",
       "</table>\n",
       "</div>"
      ],
      "text/plain": [
       "   index  PredNecessaryExp  PredUnnecessaryExp  CurrentTaxPaid   AdjustedTax\n",
       "0  16231     104153.206562       119927.778406        68637.50  79033.024157\n",
       "1   5425     102052.455363        86548.213418        61895.75  52492.285086\n",
       "2   9170      73412.022676        93473.014288        18560.40  23632.321671\n",
       "3  20837      91259.384121       115878.937829        28014.40  35572.001139\n",
       "4   5858     106349.018510        84359.604875          347.60    275.727967"
      ]
     },
     "execution_count": 64,
     "metadata": {},
     "output_type": "execute_result"
    }
   ],
   "source": [
    "results.head()"
   ]
  },
  {
   "cell_type": "code",
   "execution_count": 85,
   "id": "polyphonic-details",
   "metadata": {},
   "outputs": [
    {
     "name": "stderr",
     "output_type": "stream",
     "text": [
      "C:\\Users\\rames\\anaconda3\\envs\\nus\\lib\\site-packages\\seaborn\\distributions.py:2163: UserWarning: `displot` is a figure-level function and does not accept the ax= paramter. You may wish to try histplot.\n",
      "  warnings.warn(msg, UserWarning)\n"
     ]
    },
    {
     "data": {
      "text/plain": [
       "<Figure size 864x720 with 0 Axes>"
      ]
     },
     "metadata": {},
     "output_type": "display_data"
    },
    {
     "data": {
      "image/png": "[encoded data removed]",
      "text/plain": [
       "<Figure size 360x360 with 1 Axes>"
      ]
     },
     "metadata": {},
     "output_type": "display_data"
    },
    {
     "data": {
      "image/png": "[encoded data removed]",
      "text/plain": [
       "<Figure size 360x360 with 1 Axes>"
      ]
     },
     "metadata": {},
     "output_type": "display_data"
    }
   ],
   "source": [
    "plt.figure(figsize=(12, 10))\n",
    "ax1 = sns.displot(y_test1, kde=True)\n",
    "sns.displot(predictions1, kde=True, ax=ax1)\n",
    "# plt.title('Actual vs Fitted Values for Necessary Expenses')\n",
    "# plt.xlabel('Expenses')\n",
    "# plt.ylabel('Proportion of Households')\n",
    "plt.show()"
   ]
  },
  {
   "cell_type": "code",
   "execution_count": 98,
   "id": "whole-resource",
   "metadata": {},
   "outputs": [
    {
     "data": {
      "text/plain": [
       "(50000.0, 160000.0)"
      ]
     },
     "execution_count": 98,
     "metadata": {},
     "output_type": "execute_result"
    },
    {
     "data": {
      "image/png": "[encoded data removed]",
      "text/plain": [
       "<Figure size 432x288 with 1 Axes>"
      ]
     },
     "metadata": {},
     "output_type": "display_data"
    }
   ],
   "source": [
    "sns.histplot(predictions1, kde=True)\n",
    "plt.xlim(50000, 160000)"
   ]
  },
  {
   "cell_type": "code",
   "execution_count": 80,
   "id": "unlikely-arbitration",
   "metadata": {},
   "outputs": [
    {
     "name": "stderr",
     "output_type": "stream",
     "text": [
      "C:\\Users\\rames\\anaconda3\\envs\\nus\\lib\\site-packages\\seaborn\\distributions.py:2163: UserWarning: `displot` is a figure-level function and does not accept the ax= paramter. You may wish to try histplot.\n",
      "  warnings.warn(msg, UserWarning)\n"
     ]
    },
    {
     "data": {
      "text/plain": [
       "<seaborn.axisgrid.FacetGrid at 0x2b397ee7108>"
      ]
     },
     "execution_count": 80,
     "metadata": {},
     "output_type": "execute_result"
    },
    {
     "data": {
      "image/png": "[encoded data removed]",
      "text/plain": [
       "<Figure size 360x360 with 1 Axes>"
      ]
     },
     "metadata": {},
     "output_type": "display_data"
    },
    {
     "data": {
      "image/png": "[encoded data removed]",
      "text/plain": [
       "<Figure size 360x360 with 1 Axes>"
      ]
     },
     "metadata": {},
     "output_type": "display_data"
    }
   ],
   "source": [
    "ax2 = sns.displot(y_test1, kde=True)\n",
    "sns.displot(predictions1, kde=True, ax=ax2)"
   ]
  },
  {
   "cell_type": "markdown",
   "id": "conceptual-holmes",
   "metadata": {},
   "source": [
    "Distribution of Taxes"
   ]
  },
  {
   "cell_type": "code",
   "execution_count": 42,
   "id": "fifth-zoning",
   "metadata": {},
   "outputs": [
    {
     "name": "stderr",
     "output_type": "stream",
     "text": [
      "C:\\Users\\rames\\anaconda3\\envs\\nus\\lib\\site-packages\\seaborn\\distributions.py:2551: FutureWarning: `distplot` is a deprecated function and will be removed in a future version. Please adapt your code to use either `displot` (a figure-level function with similar flexibility) or `kdeplot` (an axes-level function for kernel density plots).\n",
      "  warnings.warn(msg, FutureWarning)\n",
      "C:\\Users\\rames\\anaconda3\\envs\\nus\\lib\\site-packages\\seaborn\\distributions.py:2551: FutureWarning: `distplot` is a deprecated function and will be removed in a future version. Please adapt your code to use either `displot` (a figure-level function with similar flexibility) or `kdeplot` (an axes-level function for kernel density plots).\n",
      "  warnings.warn(msg, FutureWarning)\n"
     ]
    },
    {
     "data": {
      "text/plain": [
       "<matplotlib.legend.Legend at 0x2b38fc77688>"
      ]
     },
     "execution_count": 42,
     "metadata": {},
     "output_type": "execute_result"
    },
    {
     "data": {
      "image/png": "[encoded data removed]",
      "text/plain": [
       "<Figure size 432x288 with 1 Axes>"
      ]
     },
     "metadata": {},
     "output_type": "display_data"
    }
   ],
   "source": [
    "ax=sns.distplot(results[['CurrentTaxPaid']], hist=False, axlabel='Tax Paid', color='blue')\n",
    "ax=sns.distplot(results[['AdjustedTax']], hist=False, color='red')\n",
    "ax.set(xlim=(-1000, 300000))\n",
    "ax.legend(title='Tax Distributions', labels=['CurrentTaxPaid', 'AdjustedTax'])"
   ]
  },
  {
   "cell_type": "code",
   "execution_count": null,
   "id": "italian-conjunction",
   "metadata": {},
   "outputs": [],
   "source": []
  }
 ],
 "metadata": {
  "kernelspec": {
   "display_name": "Python 3",
   "language": "python",
   "name": "python3"
  },
  "language_info": {
   "codemirror_mode": {
    "name": "ipython",
    "version": 3
   },
   "file_extension": ".py",
   "mimetype": "text/x-python",
   "name": "python",
   "nbconvert_exporter": "python",
   "pygments_lexer": "ipython3",
   "version": "3.7.9"
  }
 },
 "nbformat": 4,
 "nbformat_minor": 5
}
